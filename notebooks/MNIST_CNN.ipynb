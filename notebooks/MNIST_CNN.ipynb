{
 "cells": [
  {
   "cell_type": "code",
   "execution_count": 35,
   "id": "4a116941",
   "metadata": {},
   "outputs": [],
   "source": [
    "from IPython.display import clear_output\n",
    "\n",
    "import numpy as np\n",
    "import pandas as pd\n",
    "import matplotlib.pyplot as plt\n",
    "%matplotlib inline\n",
    "\n",
    "from sklearn.metrics import confusion_matrix\n",
    "\n",
    "import torch\n",
    "import torch.nn as nn\n",
    "import torch.nn.functional as F\n",
    "from torch.optim import Adam\n",
    "from torch.utils.data import DataLoader\n",
    "\n",
    "from torchvision import datasets, transforms\n",
    "from torchvision.utils import make_grid\n",
    "\n",
    "torch.manual_seed(101);"
   ]
  },
  {
   "cell_type": "code",
   "execution_count": 2,
   "id": "042110ec",
   "metadata": {},
   "outputs": [
    {
     "name": "stderr",
     "output_type": "stream",
     "text": [
      "d:\\Codehub\\dl-medical\\env\\lib\\site-packages\\torchvision\\datasets\\mnist.py:498: UserWarning: The given NumPy array is not writeable, and PyTorch does not support non-writeable tensors. This means you can write to the underlying (supposedly non-writeable) NumPy array using the tensor. You may want to copy the array to protect its data or make it writeable before converting it to a tensor. This type of warning will be suppressed for the rest of this program. (Triggered internally at  ..\\torch\\csrc\\utils\\tensor_numpy.cpp:180.)\n",
      "  return torch.from_numpy(parsed.astype(m[2], copy=False)).view(*s)\n"
     ]
    }
   ],
   "source": [
    "train_data = datasets.MNIST(\n",
    "    root = \"../datasets/\",\n",
    "    train = True,\n",
    "    download = True,\n",
    "    transform = transforms.ToTensor()\n",
    ")\n",
    "\n",
    "test_data = datasets.MNIST(\n",
    "    root = '../datasets/',\n",
    "    train = False,\n",
    "    download = True,\n",
    "    transform = transforms.ToTensor()\n",
    ")"
   ]
  },
  {
   "cell_type": "code",
   "execution_count": 3,
   "id": "df595ba8",
   "metadata": {},
   "outputs": [
    {
     "name": "stdout",
     "output_type": "stream",
     "text": [
      "Dataset MNIST\n",
      "    Number of datapoints: 60000\n",
      "    Root location: ../datasets/\n",
      "    Split: Train\n",
      "    StandardTransform\n",
      "Transform: ToTensor()\n",
      "Dataset MNIST\n",
      "    Number of datapoints: 10000\n",
      "    Root location: ../datasets/\n",
      "    Split: Test\n",
      "    StandardTransform\n",
      "Transform: ToTensor()\n"
     ]
    }
   ],
   "source": [
    "print(train_data)\n",
    "print(test_data)"
   ]
  },
  {
   "cell_type": "code",
   "execution_count": 4,
   "id": "0baa455a",
   "metadata": {},
   "outputs": [],
   "source": [
    "train_loader = DataLoader(train_data, batch_size=10, shuffle=True)\n",
    "test_loader = DataLoader(test_data, batch_size=10,shuffle=False)"
   ]
  },
  {
   "cell_type": "code",
   "execution_count": 5,
   "id": "d30e48ed",
   "metadata": {},
   "outputs": [],
   "source": [
    "def loader_info(loader: DataLoader) -> None:\n",
    "    print(f\"Number of Batches: {len(loader)}\")\n",
    "    print(f\"Size of each batch: {loader.batch_size}\\n\")"
   ]
  },
  {
   "cell_type": "code",
   "execution_count": 6,
   "id": "f5466fcb",
   "metadata": {},
   "outputs": [
    {
     "name": "stdout",
     "output_type": "stream",
     "text": [
      "Number of Batches: 6000\n",
      "Size of each batch: 10\n",
      "\n",
      "Number of Batches: 1000\n",
      "Size of each batch: 10\n",
      "\n"
     ]
    }
   ],
   "source": [
    "loader_info(train_loader)\n",
    "loader_info(test_loader)"
   ]
  },
  {
   "cell_type": "markdown",
   "id": "f79a63fb",
   "metadata": {},
   "source": [
    "## Convolution\n",
    "It's like feature extraction but for image"
   ]
  },
  {
   "cell_type": "code",
   "execution_count": 7,
   "id": "885b740a",
   "metadata": {},
   "outputs": [],
   "source": [
    "# 1 COLOR CHANNEL, 6 FILTERS (OUTPUT CHANNELS), 3x3 KERNEL, STRIDE=1 \n",
    "# For instance, (1,28,28) image, applying 6 filters of 3x3 over it would yeild, 6x26x6 as output\n",
    "conv1 = nn.Conv2d(1,6,3,1) \n",
    "\n",
    "# 6 Input Filters Conv1, 16 filters, 3x3 KERNEL, stride = 1 \n",
    "# The instance image with dimension 6x26x26 is fed into the 2nd conv layer\n",
    "conv2 = nn.Conv2d(6,16,3,1)"
   ]
  },
  {
   "cell_type": "code",
   "execution_count": 8,
   "id": "77bbc1e9",
   "metadata": {},
   "outputs": [
    {
     "data": {
      "text/plain": [
       "torch.Size([1, 28, 28])"
      ]
     },
     "execution_count": 8,
     "metadata": {},
     "output_type": "execute_result"
    }
   ],
   "source": [
    "for i, (X_train, y_train) in enumerate(train_data):\n",
    "    break\n",
    "X_train.shape"
   ]
  },
  {
   "cell_type": "code",
   "execution_count": 9,
   "id": "19d2b4f7",
   "metadata": {},
   "outputs": [
    {
     "data": {
      "text/plain": [
       "torch.Size([1, 1, 28, 28])"
      ]
     },
     "execution_count": 9,
     "metadata": {},
     "output_type": "execute_result"
    }
   ],
   "source": [
    "x = X_train.view(1,1,28,28)\n",
    "x.shape"
   ]
  },
  {
   "cell_type": "code",
   "execution_count": 10,
   "id": "7ab0cbdb",
   "metadata": {},
   "outputs": [
    {
     "data": {
      "text/plain": [
       "torch.Size([1, 6, 26, 26])"
      ]
     },
     "execution_count": 10,
     "metadata": {},
     "output_type": "execute_result"
    }
   ],
   "source": [
    "x = F.relu(conv1(x))\n",
    "x.shape"
   ]
  },
  {
   "cell_type": "markdown",
   "id": "7ba18097",
   "metadata": {},
   "source": [
    "## Pooling\n",
    "Reduce the number of parameters to prevent overfitting"
   ]
  },
  {
   "cell_type": "code",
   "execution_count": 11,
   "id": "c4ba2b71",
   "metadata": {},
   "outputs": [
    {
     "data": {
      "text/plain": [
       "torch.Size([1, 6, 13, 13])"
      ]
     },
     "execution_count": 11,
     "metadata": {},
     "output_type": "execute_result"
    }
   ],
   "source": [
    "# Input, 2x2 kernel, stride = 2\n",
    "x = F.max_pool2d(x,2,2)\n",
    "x.shape"
   ]
  },
  {
   "cell_type": "code",
   "execution_count": 12,
   "id": "3902620c",
   "metadata": {},
   "outputs": [
    {
     "data": {
      "text/plain": [
       "torch.Size([1, 16, 11, 11])"
      ]
     },
     "execution_count": 12,
     "metadata": {},
     "output_type": "execute_result"
    }
   ],
   "source": [
    "x = F.relu(conv2(x))\n",
    "x.shape"
   ]
  },
  {
   "cell_type": "code",
   "execution_count": 13,
   "id": "a392c9b3",
   "metadata": {},
   "outputs": [
    {
     "data": {
      "text/plain": [
       "torch.Size([1, 16, 5, 5])"
      ]
     },
     "execution_count": 13,
     "metadata": {},
     "output_type": "execute_result"
    }
   ],
   "source": [
    "x = F.max_pool2d(x,2,2)\n",
    "x.shape"
   ]
  },
  {
   "cell_type": "markdown",
   "id": "2d44e45f",
   "metadata": {},
   "source": [
    "Flatten before feeding into Fully Connected Neural Network"
   ]
  },
  {
   "cell_type": "code",
   "execution_count": 14,
   "id": "c586a35d",
   "metadata": {},
   "outputs": [
    {
     "data": {
      "text/plain": [
       "torch.Size([1, 400])"
      ]
     },
     "execution_count": 14,
     "metadata": {},
     "output_type": "execute_result"
    }
   ],
   "source": [
    "x.reshape(-1,16*5*5).shape"
   ]
  },
  {
   "cell_type": "code",
   "execution_count": 15,
   "id": "e9d7861b",
   "metadata": {},
   "outputs": [],
   "source": [
    "class ConvolutionalNetwork(nn.Module):\n",
    "    \n",
    "    def __init__(self,):\n",
    "        \n",
    "        super().__init__()\n",
    "        self.conv1 = nn.Conv2d(1,6,3,1)\n",
    "        self.conv2 = nn.Conv2d(6,16,3,1)\n",
    "        self.fc1 = nn.Linear(5*5*16,120)\n",
    "        self.fc2 = nn.Linear(120,84)\n",
    "        self.fc3 = nn.Linear(84,10)\n",
    "    \n",
    "    def forward(self, X):\n",
    "        \n",
    "        X = F.relu(self.conv1(X))\n",
    "        X = F.max_pool2d(X,2,2)\n",
    "        X = F.relu(self.conv2(X))\n",
    "        X = F.max_pool2d(X,2,2)\n",
    "        \n",
    "        X = X.view(-1,16*5*5)\n",
    "        \n",
    "        X = F.relu(self.fc1(X))\n",
    "        X = F.relu(self.fc2(X))\n",
    "        X = self.fc3(X)\n",
    "        \n",
    "        return F.log_softmax(X,dim=1)"
   ]
  },
  {
   "cell_type": "code",
   "execution_count": 16,
   "id": "eb9cb508",
   "metadata": {},
   "outputs": [
    {
     "data": {
      "text/plain": [
       "ConvolutionalNetwork(\n",
       "  (conv1): Conv2d(1, 6, kernel_size=(3, 3), stride=(1, 1))\n",
       "  (conv2): Conv2d(6, 16, kernel_size=(3, 3), stride=(1, 1))\n",
       "  (fc1): Linear(in_features=400, out_features=120, bias=True)\n",
       "  (fc2): Linear(in_features=120, out_features=84, bias=True)\n",
       "  (fc3): Linear(in_features=84, out_features=10, bias=True)\n",
       ")"
      ]
     },
     "execution_count": 16,
     "metadata": {},
     "output_type": "execute_result"
    }
   ],
   "source": [
    "torch.manual_seed(42)\n",
    "model = ConvolutionalNetwork()\n",
    "model"
   ]
  },
  {
   "cell_type": "code",
   "execution_count": 17,
   "id": "11539e0a",
   "metadata": {},
   "outputs": [
    {
     "name": "stdout",
     "output_type": "stream",
     "text": [
      "# of parameters: 60074\n"
     ]
    }
   ],
   "source": [
    "print(f'# of parameters: {sum([p.numel() for p in model.parameters()])}')"
   ]
  },
  {
   "cell_type": "code",
   "execution_count": 18,
   "id": "b472b49c",
   "metadata": {},
   "outputs": [],
   "source": [
    "criterion = nn.CrossEntropyLoss()\n",
    "optimizer = Adam(model.parameters(), lr=0.001)"
   ]
  },
  {
   "cell_type": "code",
   "execution_count": 19,
   "id": "de10fba7",
   "metadata": {},
   "outputs": [
    {
     "name": "stdout",
     "output_type": "stream",
     "text": [
      "[Epoch 4] Batch 6000 | loss: 0.0024646713864058256 | accuracy: 99.02333333333333%\n",
      "Duration: 3.364368744691213\n"
     ]
    }
   ],
   "source": [
    "import time\n",
    "\n",
    "start = time.time()\n",
    "\n",
    "epochs = 5\n",
    "train_loss = []\n",
    "test_loss = []\n",
    "train_correct = []\n",
    "test_correct = []\n",
    "\n",
    "for i in range(epochs):\n",
    "    train_corr = 0\n",
    "    test_corr = 0\n",
    "    \n",
    "    for b,(X_train, y_train) in enumerate(train_loader):\n",
    "        b+=1\n",
    "\n",
    "        y_pred = model(X_train)\n",
    "        loss = criterion(y_pred,y_train)\n",
    "\n",
    "        predicted = torch.max(y_pred.data,1)[1]\n",
    "        batch_correct = (predicted == y_train).sum()\n",
    "        train_corr +=batch_correct\n",
    "\n",
    "        optimizer.zero_grad() # Reset gradients\n",
    "        loss.backward() # Perform backpropogation\n",
    "        optimizer.step() # Update parameters with optimized weights\n",
    "\n",
    "        if b%600 == 0:\n",
    "            accuracy = train_corr.item()*100/(10*b)\n",
    "            clear_output(wait=True)\n",
    "            print(f'[Epoch {i}] Batch {b} | loss: {loss.item()} | accuracy: {accuracy}%')\n",
    "    \n",
    "    train_loss.append(loss.item())\n",
    "    train_correct.append(train_corr.item())\n",
    "\n",
    "    with torch.no_grad(): # Disable gradient tracking\n",
    "        for b, (X_test, y_test) in enumerate(test_loader):\n",
    "            y_val = model(X_test)\n",
    "            predicted = torch.max(y_val.data,1)[1]\n",
    "            test_corr += (predicted == y_test).sum()\n",
    "    \n",
    "    loss = criterion(y_val,y_test)\n",
    "    test_loss.append(loss)\n",
    "    test_correct.append(test_corr)\n",
    "    \n",
    "total_time = time.time() - start\n",
    "print(f\"Duration: {total_time/60} mins\")"
   ]
  },
  {
   "cell_type": "code",
   "execution_count": 20,
   "metadata": {},
   "outputs": [
    {
     "data": {
      "text/plain": [
       "<matplotlib.legend.Legend at 0x2c65de4e880>"
      ]
     },
     "execution_count": 20,
     "metadata": {},
     "output_type": "execute_result"
    },
    {
     "data": {
      "image/png": "[encoded data removed]",
      "text/plain": [
       "<Figure size 432x288 with 1 Axes>"
      ]
     },
     "metadata": {
      "needs_background": "light"
     },
     "output_type": "display_data"
    }
   ],
   "source": [
    "plt.plot(train_loss, label = 'Train loss')\n",
    "plt.plot(test_loss, label = 'Test loss')\n",
    "plt.title('LOSS AT EPOCH')\n",
    "plt.legend()"
   ]
  },
  {
   "cell_type": "code",
   "execution_count": 24,
   "metadata": {},
   "outputs": [
    {
     "data": {
      "text/plain": [
       "<matplotlib.legend.Legend at 0x2c661e3ef10>"
      ]
     },
     "execution_count": 24,
     "metadata": {},
     "output_type": "execute_result"
    },
    {
     "data": {
      "image/png": "[encoded data removed]",
      "text/plain": [
       "<Figure size 432x288 with 1 Axes>"
      ]
     },
     "metadata": {
      "needs_background": "light"
     },
     "output_type": "display_data"
    }
   ],
   "source": [
    "plt.plot([t/60000*100 for t in train_correct], label = 'Train accuracy')\n",
    "plt.plot([t/10000*100 for t in test_correct], label = 'Test accuracy')\n",
    "plt.title('Accuracy at the end of each epoch')\n",
    "plt.legend()"
   ]
  },
  {
   "cell_type": "code",
   "execution_count": 27,
   "metadata": {},
   "outputs": [
    {
     "name": "stdout",
     "output_type": "stream",
     "text": [
      "Number of Batches: 1\n",
      "Size of each batch: 10000\n",
      "\n"
     ]
    }
   ],
   "source": [
    "test_load_all = DataLoader(test_data, batch_size=10000, shuffle=False)\n",
    "loader_info(test_load_all)"
   ]
  },
  {
   "cell_type": "code",
   "execution_count": 28,
   "metadata": {},
   "outputs": [],
   "source": [
    "with torch.no_grad():\n",
    "    correct = 0\n",
    "    for X_test,y_test in test_load_all:\n",
    "        y_val = model(X_test)\n",
    "        loss = criterion(y_val,y_test)\n",
    "\n",
    "        predicted = torch.max(y_val.data,1)[1]\n",
    "        correct+=(predicted == y_test).sum()"
   ]
  },
  {
   "cell_type": "code",
   "execution_count": 32,
   "metadata": {},
   "outputs": [
    {
     "name": "stdout",
     "output_type": "stream",
     "text": [
      "New Test Accuracy: 98.66%\n"
     ]
    }
   ],
   "source": [
    "print(f\"New Test Accuracy: {(correct.item()/10000*100)}%\")"
   ]
  },
  {
   "cell_type": "code",
   "execution_count": 36,
   "metadata": {},
   "outputs": [
    {
     "name": "stdout",
     "output_type": "stream",
     "text": [
      "[[   0    1    2    3    4    5    6    7    8    9]]\n",
      "\n",
      "[[ 975    0    3    0    0    2    5    1    6    0]\n",
      " [   0 1131    3    0    0    0    2    6    0    0]\n",
      " [   2    1 1016    0    0    0    1    6    3    0]\n",
      " [   0    1    3 1005    0   21    0    1    1    0]\n",
      " [   0    0    1    0  973    0    2    4    0    8]\n",
      " [   0    0    0    1    0  861    0    0    0    4]\n",
      " [   2    2    0    0    6    4  947    0    0    0]\n",
      " [   1    0    6    2    0    0    0 1004    1    2]\n",
      " [   0    0    0    2    0    1    1    2  961    2]\n",
      " [   0    0    0    0    3    3    0    4    2  993]]\n"
     ]
    }
   ],
   "source": [
    "# print a row of values for reference\n",
    "np.set_printoptions(formatter=dict(int=lambda x: f'{x:4}'))\n",
    "print(np.arange(10).reshape(1,10))\n",
    "print()\n",
    "\n",
    "# print the confusion matrix\n",
    "print(confusion_matrix(predicted.view(-1), y_test.view(-1)))"
   ]
  },
  {
   "cell_type": "code",
   "execution_count": 50,
   "metadata": {},
   "outputs": [
    {
     "data": {
      "text/plain": [
       "<matplotlib.image.AxesImage at 0x2c654fd2fd0>"
      ]
     },
     "execution_count": 50,
     "metadata": {},
     "output_type": "execute_result"
    },
    {
     "data": {
      "image/png": "[encoded data removed]",
      "text/plain": [
       "<Figure size 432x288 with 1 Axes>"
      ]
     },
     "metadata": {
      "needs_background": "light"
     },
     "output_type": "display_data"
    }
   ],
   "source": [
    "plt.imshow(test_data[333\n",
    "][0].reshape(28,28))"
   ]
  },
  {
   "cell_type": "code",
   "execution_count": 48,
   "metadata": {},
   "outputs": [],
   "source": [
    "model.eval()\n",
    "with torch.no_grad():\n",
    "    new_pred = model(test_data[333][0].view(1,1,28,28))"
   ]
  },
  {
   "cell_type": "code",
   "execution_count": 49,
   "metadata": {},
   "outputs": [
    {
     "data": {
      "text/plain": [
       "tensor(5)"
      ]
     },
     "execution_count": 49,
     "metadata": {},
     "output_type": "execute_result"
    }
   ],
   "source": [
    "torch.argmax(new_pred)"
   ]
  }
 ],
 "metadata": {
  "kernelspec": {
   "display_name": "Python 3 (ipykernel)",
   "language": "python",
   "name": "python3"
  },
  "language_info": {
   "codemirror_mode": {
    "name": "ipython",
    "version": 3
   },
   "file_extension": ".py",
   "mimetype": "text/x-python",
   "name": "python",
   "nbconvert_exporter": "python",
   "pygments_lexer": "ipython3",
   "version": "3.8.0"
  },
  "widgets": {
   "application/vnd.jupyter.widget-state+json": {
    "state": {},
    "version_major": 2,
    "version_minor": 0
   }
  }
 },
 "nbformat": 4,
 "nbformat_minor": 5
}
