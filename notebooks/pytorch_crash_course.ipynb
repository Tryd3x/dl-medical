{
 "cells": [
  {
   "cell_type": "code",
   "execution_count": 1,
   "id": "810a324f",
   "metadata": {},
   "outputs": [],
   "source": [
    "import torch\n",
    "import numpy as np\n",
    "np.random.seed(42)"
   ]
  },
  {
   "cell_type": "code",
   "execution_count": 2,
   "id": "6d14d92a",
   "metadata": {},
   "outputs": [
    {
     "data": {
      "text/plain": [
       "array([6, 3, 7, 4, 6, 9, 2, 6, 7, 4])"
      ]
     },
     "execution_count": 2,
     "metadata": {},
     "output_type": "execute_result"
    }
   ],
   "source": [
    "arr = np.random.randint(0,10,10)\n",
    "arr"
   ]
  },
  {
   "cell_type": "markdown",
   "id": "4b7c749f",
   "metadata": {},
   "source": [
    "## **Convert numpy to tensor**\n",
    "- Link is preserved to original nparray `arr`\n",
    "- Applies to both: `.from_numpy()` and `.as_tensor()`"
   ]
  },
  {
   "cell_type": "code",
   "execution_count": 3,
   "id": "2af9d21c",
   "metadata": {},
   "outputs": [
    {
     "data": {
      "text/plain": [
       "tensor([6, 3, 7, 4, 6, 9, 2, 6, 7, 4], dtype=torch.int32)"
      ]
     },
     "execution_count": 3,
     "metadata": {},
     "output_type": "execute_result"
    }
   ],
   "source": [
    "# torch.from_numpy(np_array)\n",
    "t1 = torch.from_numpy(arr)\n",
    "t1"
   ]
  },
  {
   "cell_type": "code",
   "execution_count": 4,
   "id": "5ddd3c0f",
   "metadata": {},
   "outputs": [
    {
     "data": {
      "text/plain": [
       "tensor([6, 3, 7, 4, 6, 9, 2, 6, 7, 4], dtype=torch.int32)"
      ]
     },
     "execution_count": 4,
     "metadata": {},
     "output_type": "execute_result"
    }
   ],
   "source": [
    "# torch.as_tensor(np_array)\n",
    "t1 = torch.as_tensor(arr)\n",
    "t1"
   ]
  },
  {
   "cell_type": "markdown",
   "id": "a61e2a6a",
   "metadata": {},
   "source": [
    "## 2D tensor"
   ]
  },
  {
   "cell_type": "code",
   "execution_count": 5,
   "id": "42f3d6ff",
   "metadata": {},
   "outputs": [
    {
     "data": {
      "text/plain": [
       "tensor([[3, 7, 7],\n",
       "        [2, 5, 4],\n",
       "        [1, 7, 5],\n",
       "        [1, 4, 0]], dtype=torch.int32)"
      ]
     },
     "execution_count": 5,
     "metadata": {},
     "output_type": "execute_result"
    }
   ],
   "source": [
    "arr_2d = np.random.randint(0,10,12).reshape(4,-1)\n",
    "t1_2d  = torch.tensor(arr_2d)\n",
    "t1_2d"
   ]
  },
  {
   "cell_type": "markdown",
   "id": "9e925808",
   "metadata": {},
   "source": [
    "## **Copy**\n",
    "Break link to original tensor, make a copy using\n",
    "```torch.tensor()```"
   ]
  },
  {
   "cell_type": "code",
   "execution_count": 6,
   "id": "b37d15aa",
   "metadata": {},
   "outputs": [
    {
     "data": {
      "text/plain": [
       "array([0, 1, 2, 3, 4, 5, 6, 7, 8, 9])"
      ]
     },
     "execution_count": 6,
     "metadata": {},
     "output_type": "execute_result"
    }
   ],
   "source": [
    "my_arr = np.arange(0,10)\n",
    "my_arr"
   ]
  },
  {
   "cell_type": "code",
   "execution_count": 7,
   "id": "8810c92e",
   "metadata": {},
   "outputs": [
    {
     "data": {
      "text/plain": [
       "tensor([0, 1, 2, 3, 4, 5, 6, 7, 8, 9], dtype=torch.int32)"
      ]
     },
     "execution_count": 7,
     "metadata": {},
     "output_type": "execute_result"
    }
   ],
   "source": [
    "my_tensor = torch.tensor(my_arr)\n",
    "my_tensor"
   ]
  },
  {
   "cell_type": "code",
   "execution_count": 8,
   "id": "de4f8aaf",
   "metadata": {},
   "outputs": [
    {
     "data": {
      "text/plain": [
       "tensor([0, 1, 2, 3, 4, 5, 6, 7, 8, 9], dtype=torch.int32)"
      ]
     },
     "execution_count": 8,
     "metadata": {},
     "output_type": "execute_result"
    }
   ],
   "source": [
    "my_other_tensor = torch.from_numpy(my_arr) # Actively shares memory with the original nparray\n",
    "my_other_tensor"
   ]
  },
  {
   "cell_type": "code",
   "execution_count": 9,
   "id": "ba015b78",
   "metadata": {},
   "outputs": [
    {
     "data": {
      "text/plain": [
       "tensor([-1,  1,  2,  3,  4,  5,  6,  7,  8,  9], dtype=torch.int32)"
      ]
     },
     "execution_count": 9,
     "metadata": {},
     "output_type": "execute_result"
    }
   ],
   "source": [
    "# Making changes to original nparray, reflects changes in copies and vice cersa\n",
    "my_arr[0] = -1\n",
    "my_other_tensor"
   ]
  },
  {
   "cell_type": "code",
   "execution_count": 10,
   "id": "3ad84a05",
   "metadata": {},
   "outputs": [
    {
     "data": {
      "text/plain": [
       "array([0, 1, 2, 3, 4, 5, 6, 7, 8, 9])"
      ]
     },
     "execution_count": 10,
     "metadata": {},
     "output_type": "execute_result"
    }
   ],
   "source": [
    "# Making changes to copy of nparray, reflects changes back to original nparray\n",
    "my_other_tensor[0] = 0\n",
    "my_arr"
   ]
  },
  {
   "cell_type": "code",
   "execution_count": 11,
   "id": "6d03c80d",
   "metadata": {},
   "outputs": [
    {
     "name": "stdout",
     "output_type": "stream",
     "text": [
      "Original nparray: [0 1 2 3 4 5 6 7 8 9]\n",
      "Change to nparray: [-1  1  2  3  4  5  6  7  8  9]\n"
     ]
    },
    {
     "data": {
      "text/plain": [
       "tensor([0, 1, 2, 3, 4, 5, 6, 7, 8, 9], dtype=torch.int32)"
      ]
     },
     "execution_count": 11,
     "metadata": {},
     "output_type": "execute_result"
    }
   ],
   "source": [
    "print(f\"Original nparray: {my_arr}\")\n",
    "my_arr[0] = -1 # Making changes\n",
    "print(f\"Change to nparray: {my_arr}\")\n",
    "my_tensor # Copy of nparray as tensor, remains unaffected (No Linkage, Memory not shared)"
   ]
  },
  {
   "cell_type": "markdown",
   "id": "14b3b7de",
   "metadata": {},
   "source": [
    "## Difference in tensor and Tensor\n",
    "Float Tensor => torch.Tensor() \\\n",
    "dynamic Tensor => torch.tensor()\n",
    "\n",
    "*Note:* depends on the datatype of the original nparray passed as argument"
   ]
  },
  {
   "cell_type": "code",
   "execution_count": 12,
   "id": "6b0835fa",
   "metadata": {},
   "outputs": [
    {
     "data": {
      "text/plain": [
       "array([0. , 0.1, 0.2, 0.3, 0.4, 0.5, 0.6, 0.7, 0.8, 0.9])"
      ]
     },
     "execution_count": 12,
     "metadata": {},
     "output_type": "execute_result"
    }
   ],
   "source": [
    "my_arr = np.arange(0,1,0.1)\n",
    "my_arr"
   ]
  },
  {
   "cell_type": "code",
   "execution_count": 13,
   "id": "991dcc7a",
   "metadata": {},
   "outputs": [
    {
     "data": {
      "text/plain": [
       "tensor([0.0000, 0.1000, 0.2000, 0.3000, 0.4000, 0.5000, 0.6000, 0.7000, 0.8000,\n",
       "        0.9000], dtype=torch.float64)"
      ]
     },
     "execution_count": 13,
     "metadata": {},
     "output_type": "execute_result"
    }
   ],
   "source": [
    "torch.tensor(my_arr) # Infers the datatype of my_arr"
   ]
  },
  {
   "cell_type": "code",
   "execution_count": 14,
   "id": "627cc342",
   "metadata": {},
   "outputs": [
    {
     "data": {
      "text/plain": [
       "array([0, 1, 2, 3, 4, 5, 6, 7, 8, 9])"
      ]
     },
     "execution_count": 14,
     "metadata": {},
     "output_type": "execute_result"
    }
   ],
   "source": [
    "my_arr = np.arange(0,10)\n",
    "my_arr"
   ]
  },
  {
   "cell_type": "code",
   "execution_count": 15,
   "id": "2f7b74e7",
   "metadata": {},
   "outputs": [
    {
     "name": "stdout",
     "output_type": "stream",
     "text": [
      "tensor([0., 1., 2., 3., 4., 5., 6., 7., 8., 9.])\n",
      "torch.float32\n"
     ]
    }
   ],
   "source": [
    "# t = torch.FloatTensor(my_arr)\n",
    "t = torch.Tensor(my_arr) # Converts to float\n",
    "print(t)\n",
    "print(t.dtype)"
   ]
  },
  {
   "cell_type": "markdown",
   "id": "204d28ae",
   "metadata": {},
   "source": [
    "## Initialize empty tensors\n",
    "Place holder tensors with extremely small floating values \\\n",
    "```torch.empty(ndim,...)```"
   ]
  },
  {
   "cell_type": "code",
   "execution_count": 16,
   "id": "0c9287a1",
   "metadata": {},
   "outputs": [
    {
     "data": {
      "text/plain": [
       "tensor([[0., 0.],\n",
       "        [0., 0.]])"
      ]
     },
     "execution_count": 16,
     "metadata": {},
     "output_type": "execute_result"
    }
   ],
   "source": [
    "torch.empty(2,2)"
   ]
  },
  {
   "cell_type": "code",
   "execution_count": 17,
   "id": "e5327948",
   "metadata": {},
   "outputs": [
    {
     "data": {
      "text/plain": [
       "tensor([[0, 0],\n",
       "        [0, 0]], dtype=torch.int32)"
      ]
     },
     "execution_count": 17,
     "metadata": {},
     "output_type": "execute_result"
    }
   ],
   "source": [
    "# Placeholder tensors with zeros\n",
    "torch.zeros(2,2, dtype=torch.int32)"
   ]
  },
  {
   "cell_type": "code",
   "execution_count": 18,
   "id": "9a75bf71",
   "metadata": {},
   "outputs": [
    {
     "data": {
      "text/plain": [
       "tensor([[1, 1],\n",
       "        [1, 1]], dtype=torch.int32)"
      ]
     },
     "execution_count": 18,
     "metadata": {},
     "output_type": "execute_result"
    }
   ],
   "source": [
    "# Placeholder tensors with ones\n",
    "torch.ones(2,2, dtype = torch.int32)"
   ]
  },
  {
   "cell_type": "markdown",
   "id": "416853d2",
   "metadata": {},
   "source": [
    "## **Tensor generator**"
   ]
  },
  {
   "cell_type": "code",
   "execution_count": 19,
   "id": "6b4c27b0",
   "metadata": {},
   "outputs": [
    {
     "data": {
      "text/plain": [
       "tensor([0, 1, 2, 3, 4, 5, 6, 7, 8, 9])"
      ]
     },
     "execution_count": 19,
     "metadata": {},
     "output_type": "execute_result"
    }
   ],
   "source": [
    "# Sequence generated elements with steps\n",
    "torch.arange(0,10)"
   ]
  },
  {
   "cell_type": "code",
   "execution_count": 20,
   "id": "44ddcd54",
   "metadata": {},
   "outputs": [
    {
     "data": {
      "text/plain": [
       "tensor([ 0.0000,  1.1111,  2.2222,  3.3333,  4.4444,  5.5556,  6.6667,  7.7778,\n",
       "         8.8889, 10.0000])"
      ]
     },
     "execution_count": 20,
     "metadata": {},
     "output_type": "execute_result"
    }
   ],
   "source": [
    "# Evenly spaced elements\n",
    "torch.linspace(0,10,10)"
   ]
  },
  {
   "cell_type": "markdown",
   "id": "c96e3760",
   "metadata": {},
   "source": [
    "## Reshape\n",
    "Use ```.reshape(size_to_reshape_to)```  \n",
    "size_to_reshape_to => (n1,n2,...n) where the length of this tuple dictates the dimension of the tensor"
   ]
  },
  {
   "cell_type": "code",
   "execution_count": 21,
   "id": "7248d4ba",
   "metadata": {},
   "outputs": [
    {
     "data": {
      "text/plain": [
       "tensor([[0, 1],\n",
       "        [2, 3],\n",
       "        [4, 5],\n",
       "        [6, 7],\n",
       "        [8, 9]])"
      ]
     },
     "execution_count": 21,
     "metadata": {},
     "output_type": "execute_result"
    }
   ],
   "source": [
    "torch.arange(0,10).reshape(5,-1) # (5,-1), len = 2, 2-dimensional array"
   ]
  },
  {
   "cell_type": "markdown",
   "id": "87210918",
   "metadata": {},
   "source": [
    "## Modify dtype\n",
    "Use ```.type(dtype)```\n",
    "\n",
    "*Note:* dtype for torch objects are ```torch.<dtype>``` \\\n",
    "    where dtype = ['int32', 'int64', 'float32', ...]"
   ]
  },
  {
   "cell_type": "code",
   "execution_count": 49,
   "id": "68025824",
   "metadata": {},
   "outputs": [
    {
     "name": "stdout",
     "output_type": "stream",
     "text": [
      "tensor([0, 1, 2, 3, 4])\n"
     ]
    },
    {
     "data": {
      "text/plain": [
       "torch.int64"
      ]
     },
     "execution_count": 49,
     "metadata": {},
     "output_type": "execute_result"
    }
   ],
   "source": [
    "my_tensor = torch.arange(0,5)\n",
    "print(my_tensor)\n",
    "my_tensor.dtype"
   ]
  },
  {
   "cell_type": "code",
   "execution_count": 50,
   "id": "23ab254c",
   "metadata": {},
   "outputs": [
    {
     "data": {
      "text/plain": [
       "tensor([0, 1, 2, 3, 4], dtype=torch.int32)"
      ]
     },
     "execution_count": 50,
     "metadata": {},
     "output_type": "execute_result"
    }
   ],
   "source": [
    "my_tensor.type(torch.int32)"
   ]
  },
  {
   "cell_type": "code",
   "execution_count": 51,
   "id": "cd6dd19b",
   "metadata": {},
   "outputs": [
    {
     "data": {
      "text/plain": [
       "torch.int64"
      ]
     },
     "execution_count": 51,
     "metadata": {},
     "output_type": "execute_result"
    }
   ],
   "source": [
    "my_tensor.dtype"
   ]
  },
  {
   "cell_type": "markdown",
   "id": "268ac7c5",
   "metadata": {},
   "source": [
    "## Random Generator"
   ]
  },
  {
   "cell_type": "code",
   "execution_count": 24,
   "id": "16a82e4c",
   "metadata": {},
   "outputs": [
    {
     "data": {
      "text/plain": [
       "<torch._C.Generator at 0x200e783efb0>"
      ]
     },
     "execution_count": 24,
     "metadata": {},
     "output_type": "execute_result"
    }
   ],
   "source": [
    "# Set the seed\n",
    "torch.manual_seed(42)"
   ]
  },
  {
   "cell_type": "code",
   "execution_count": 25,
   "id": "08c31d9a",
   "metadata": {},
   "outputs": [
    {
     "data": {
      "text/plain": [
       "tensor([[0.8823, 0.9150],\n",
       "        [0.3829, 0.9593]])"
      ]
     },
     "execution_count": 25,
     "metadata": {},
     "output_type": "execute_result"
    }
   ],
   "source": [
    "# Uniform random => [0,1]\n",
    "torch.rand(2,2)"
   ]
  },
  {
   "cell_type": "code",
   "execution_count": 26,
   "id": "b33479c8",
   "metadata": {},
   "outputs": [
    {
     "data": {
      "text/plain": [
       "tensor([[ 0.2345,  0.2303],\n",
       "        [-1.1229, -0.1863]])"
      ]
     },
     "execution_count": 26,
     "metadata": {},
     "output_type": "execute_result"
    }
   ],
   "source": [
    "# Normal random => [-1,1]\n",
    "torch.randn(2,2)"
   ]
  },
  {
   "cell_type": "code",
   "execution_count": 27,
   "id": "53c11875",
   "metadata": {},
   "outputs": [
    {
     "data": {
      "text/plain": [
       "tensor([[0, 4, 1, 2],\n",
       "        [5, 5, 7, 6],\n",
       "        [9, 6, 3, 1],\n",
       "        [9, 3, 1, 9],\n",
       "        [7, 9, 2, 0]])"
      ]
     },
     "execution_count": 27,
     "metadata": {},
     "output_type": "execute_result"
    }
   ],
   "source": [
    "# Integer random => [start, end]\n",
    "# torch.randint(start,end, size)\n",
    "# size => (rows,cols)\n",
    "torch.randint(0,10,(5,4))"
   ]
  },
  {
   "cell_type": "markdown",
   "id": "d1fff24e",
   "metadata": {},
   "source": [
    "**Random Generator for a similar shaped tensor** \\\n",
    "Creates a random tensor that preserves the shape of the original tensor  \n",
    " ```torch.<r>_like()``` \\\n",
    "where `<r>` = ['rand', 'randn', ...]"
   ]
  },
  {
   "cell_type": "code",
   "execution_count": 28,
   "id": "3d5aa95e",
   "metadata": {},
   "outputs": [
    {
     "data": {
      "text/plain": [
       "tensor([[0., 0., 0.],\n",
       "        [0., 0., 0.]])"
      ]
     },
     "execution_count": 28,
     "metadata": {},
     "output_type": "execute_result"
    }
   ],
   "source": [
    "my_tensor = torch.zeros(2,3)\n",
    "my_tensor"
   ]
  },
  {
   "cell_type": "code",
   "execution_count": 29,
   "id": "e2156990",
   "metadata": {},
   "outputs": [
    {
     "data": {
      "text/plain": [
       "tensor([[0.8860, 0.5832, 0.3376],\n",
       "        [0.8090, 0.5779, 0.9040]])"
      ]
     },
     "execution_count": 29,
     "metadata": {},
     "output_type": "execute_result"
    }
   ],
   "source": [
    "# Uniform \n",
    "torch.rand_like(my_tensor)"
   ]
  },
  {
   "cell_type": "code",
   "execution_count": 30,
   "id": "638f67e6",
   "metadata": {},
   "outputs": [
    {
     "data": {
      "text/plain": [
       "tensor([[-0.3639,  0.1513, -0.3514],\n",
       "        [-0.7906, -0.0915,  0.2352]])"
      ]
     },
     "execution_count": 30,
     "metadata": {},
     "output_type": "execute_result"
    }
   ],
   "source": [
    "# Normal\n",
    "torch.randn_like(my_tensor)"
   ]
  },
  {
   "cell_type": "code",
   "execution_count": 31,
   "id": "3c15698e",
   "metadata": {},
   "outputs": [
    {
     "data": {
      "text/plain": [
       "tensor([[0., 9., 0.],\n",
       "        [9., 6., 9.]])"
      ]
     },
     "execution_count": 31,
     "metadata": {},
     "output_type": "execute_result"
    }
   ],
   "source": [
    "# Integer\n",
    "torch.randint_like(my_tensor,0,10)"
   ]
  },
  {
   "cell_type": "markdown",
   "id": "b161f80f",
   "metadata": {},
   "source": [
    "## Indexing and Slicing"
   ]
  },
  {
   "cell_type": "code",
   "execution_count": 32,
   "id": "dcae13ac",
   "metadata": {},
   "outputs": [
    {
     "data": {
      "text/plain": [
       "tensor([[0, 1],\n",
       "        [2, 3],\n",
       "        [4, 5]])"
      ]
     },
     "execution_count": 32,
     "metadata": {},
     "output_type": "execute_result"
    }
   ],
   "source": [
    "x = torch.arange(6).reshape(3,-1)\n",
    "x"
   ]
  },
  {
   "cell_type": "code",
   "execution_count": 33,
   "id": "9394105b",
   "metadata": {},
   "outputs": [
    {
     "data": {
      "text/plain": [
       "tensor([[1],\n",
       "        [3],\n",
       "        [5]])"
      ]
     },
     "execution_count": 33,
     "metadata": {},
     "output_type": "execute_result"
    }
   ],
   "source": [
    "# Note: If you want to preserve the dimension, make sure to slice all the way through instead of indexing it\n",
    "# Example:\n",
    "# x[:,1] # returns (1,3)\n",
    "x[:,1:] # returns (3,1)"
   ]
  },
  {
   "cell_type": "markdown",
   "id": "fcbc2385",
   "metadata": {},
   "source": [
    "## View\n",
    "Less operation overhead then reshape if tensor is contiguous in memory space.  \n",
    "Basically,\n",
    "```contiguous() + view() = reshape()```\n",
    "\n",
    "*Note: Both view() and reshape() are linked to original tensor. Any further modification to the original tensor, gets reflected in the view/reshape assignment (z1 and z2 below)*"
   ]
  },
  {
   "cell_type": "code",
   "execution_count": 34,
   "id": "bec3d1aa",
   "metadata": {},
   "outputs": [
    {
     "data": {
      "text/plain": [
       "tensor([[0, 1, 2],\n",
       "        [3, 4, 5]])"
      ]
     },
     "execution_count": 34,
     "metadata": {},
     "output_type": "execute_result"
    }
   ],
   "source": [
    "x.view(2,-1)"
   ]
  },
  {
   "cell_type": "code",
   "execution_count": 35,
   "id": "fad2b41c",
   "metadata": {},
   "outputs": [
    {
     "data": {
      "text/plain": [
       "tensor([[0, 1],\n",
       "        [2, 3],\n",
       "        [4, 5]])"
      ]
     },
     "execution_count": 35,
     "metadata": {},
     "output_type": "execute_result"
    }
   ],
   "source": [
    "x # Unchanged"
   ]
  },
  {
   "cell_type": "code",
   "execution_count": 36,
   "id": "473b2959",
   "metadata": {},
   "outputs": [
    {
     "name": "stdout",
     "output_type": "stream",
     "text": [
      "tensor([[0, 1, 2],\n",
      "        [3, 4, 5]])\n",
      "tensor([[0, 1, 2],\n",
      "        [3, 4, 5]])\n"
     ]
    }
   ],
   "source": [
    "z1 = x.view(2,-1)\n",
    "z2 = x.reshape(2,-1)\n",
    "print(z1)\n",
    "print(z2)"
   ]
  },
  {
   "cell_type": "code",
   "execution_count": 37,
   "id": "3dcf1481",
   "metadata": {},
   "outputs": [
    {
     "data": {
      "text/plain": [
       "tensor([[-100,    1],\n",
       "        [   2,    3],\n",
       "        [   4,    5]])"
      ]
     },
     "execution_count": 37,
     "metadata": {},
     "output_type": "execute_result"
    }
   ],
   "source": [
    "# Modifying x\n",
    "x[0,0]  = -100\n",
    "x"
   ]
  },
  {
   "cell_type": "code",
   "execution_count": 38,
   "id": "00f08022",
   "metadata": {},
   "outputs": [
    {
     "data": {
      "text/plain": [
       "tensor([[-100,    1,    2],\n",
       "        [   3,    4,    5]])"
      ]
     },
     "execution_count": 38,
     "metadata": {},
     "output_type": "execute_result"
    }
   ],
   "source": [
    "z1 # Changes also reflected in view"
   ]
  },
  {
   "cell_type": "code",
   "execution_count": 39,
   "id": "f06b2a46",
   "metadata": {},
   "outputs": [
    {
     "data": {
      "text/plain": [
       "tensor([[-100,    1,    2],\n",
       "        [   3,    4,    5]])"
      ]
     },
     "execution_count": 39,
     "metadata": {},
     "output_type": "execute_result"
    }
   ],
   "source": [
    "z2 # Changes also reflected in reshape"
   ]
  },
  {
   "cell_type": "markdown",
   "id": "4b741e84",
   "metadata": {},
   "source": [
    "## Math Operations\n",
    "- These are element wise operations:\n",
    "`+`\n",
    "`-`\n",
    "`*`\n",
    "`/`"
   ]
  },
  {
   "cell_type": "code",
   "execution_count": 40,
   "id": "c892c409",
   "metadata": {},
   "outputs": [
    {
     "name": "stdout",
     "output_type": "stream",
     "text": [
      "tensor([[1, 2],\n",
      "        [2, 0],\n",
      "        [2, 0]])\n",
      "\n",
      "tensor([[2, 4],\n",
      "        [0, 5],\n",
      "        [3, 4]])\n"
     ]
    }
   ],
   "source": [
    "a = torch.randint(0,6,(3,2))\n",
    "b = torch.randint_like(a,0,6)\n",
    "print(a)\n",
    "print()\n",
    "print(b)"
   ]
  },
  {
   "cell_type": "markdown",
   "id": "140850ae",
   "metadata": {},
   "source": [
    "**Fun fact**  \n",
    " Underscore _ allows to do the following:  \n",
    " a = a + b  \n",
    " a.add_(b)"
   ]
  },
  {
   "cell_type": "code",
   "execution_count": 41,
   "id": "ca567723",
   "metadata": {},
   "outputs": [
    {
     "data": {
      "text/plain": [
       "tensor([[3, 6],\n",
       "        [2, 5],\n",
       "        [5, 4]])"
      ]
     },
     "execution_count": 41,
     "metadata": {},
     "output_type": "execute_result"
    }
   ],
   "source": [
    "a.add_(b)"
   ]
  },
  {
   "cell_type": "code",
   "execution_count": 42,
   "id": "2dd00806",
   "metadata": {},
   "outputs": [
    {
     "data": {
      "text/plain": [
       "tensor([[3, 6],\n",
       "        [2, 5],\n",
       "        [5, 4]])"
      ]
     },
     "execution_count": 42,
     "metadata": {},
     "output_type": "execute_result"
    }
   ],
   "source": [
    "a"
   ]
  },
  {
   "cell_type": "markdown",
   "id": "2106b48c",
   "metadata": {},
   "source": [
    "## Matrix Operations\n",
    "These include:  \n",
    "`@` matrix multiplication  \n",
    "`a.dot(b)` sum of element-wise products  \n",
    "`.T` Transpose "
   ]
  },
  {
   "cell_type": "code",
   "execution_count": 43,
   "id": "07e4492d",
   "metadata": {},
   "outputs": [
    {
     "data": {
      "text/plain": [
       "tensor([[21, 42],\n",
       "        [24, 65]])"
      ]
     },
     "execution_count": 43,
     "metadata": {},
     "output_type": "execute_result"
    }
   ],
   "source": [
    "z = a.T @ b\n",
    "z"
   ]
  },
  {
   "cell_type": "code",
   "execution_count": 44,
   "id": "a60fe484",
   "metadata": {},
   "outputs": [
    {
     "data": {
      "text/plain": [
       "tensor(86)"
      ]
     },
     "execution_count": 44,
     "metadata": {},
     "output_type": "execute_result"
    }
   ],
   "source": [
    "a.reshape(-1).dot(b.reshape(-1))"
   ]
  },
  {
   "cell_type": "markdown",
   "id": "40dee81f",
   "metadata": {},
   "source": [
    "## Advanced Matrix Operations"
   ]
  },
  {
   "cell_type": "markdown",
   "id": "116f426c",
   "metadata": {},
   "source": [
    "**Euclidean Norm**  \n",
    "`.norm()`"
   ]
  },
  {
   "cell_type": "code",
   "execution_count": 45,
   "id": "349971c0",
   "metadata": {},
   "outputs": [
    {
     "data": {
      "text/plain": [
       "tensor(83.7019)"
      ]
     },
     "execution_count": 45,
     "metadata": {},
     "output_type": "execute_result"
    }
   ],
   "source": [
    "s = z.reshape(-1).type(dtype=torch.float32)\n",
    "s.norm()"
   ]
  },
  {
   "cell_type": "markdown",
   "id": "0f249a1f",
   "metadata": {},
   "source": [
    "**Number of Elements**  \n",
    "`.numel()`"
   ]
  },
  {
   "cell_type": "code",
   "execution_count": 46,
   "id": "6081ae40",
   "metadata": {},
   "outputs": [
    {
     "data": {
      "text/plain": [
       "4"
      ]
     },
     "execution_count": 46,
     "metadata": {},
     "output_type": "execute_result"
    }
   ],
   "source": [
    "z.numel()"
   ]
  }
 ],
 "metadata": {
  "kernelspec": {
   "display_name": "Python 3 (ipykernel)",
   "language": "python",
   "name": "python3"
  },
  "language_info": {
   "codemirror_mode": {
    "name": "ipython",
    "version": 3
   },
   "file_extension": ".py",
   "mimetype": "text/x-python",
   "name": "python",
   "nbconvert_exporter": "python",
   "pygments_lexer": "ipython3",
   "version": "3.8.0"
  }
 },
 "nbformat": 4,
 "nbformat_minor": 5
}
