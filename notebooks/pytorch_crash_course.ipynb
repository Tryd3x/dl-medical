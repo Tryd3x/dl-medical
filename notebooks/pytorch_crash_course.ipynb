{
 "cells": [
  {
   "cell_type": "code",
   "execution_count": 67,
   "id": "29f182bd",
   "metadata": {},
   "outputs": [],
   "source": [
    "import torch\n",
    "import numpy as np\n",
    "np.random.seed(42)"
   ]
  },
  {
   "cell_type": "code",
   "execution_count": 68,
   "id": "f0bf5b23",
   "metadata": {},
   "outputs": [
    {
     "data": {
      "text/plain": [
       "array([6, 3, 7, 4, 6, 9, 2, 6, 7, 4])"
      ]
     },
     "execution_count": 68,
     "metadata": {},
     "output_type": "execute_result"
    }
   ],
   "source": [
    "arr = np.random.randint(0,10,10)\n",
    "arr"
   ]
  },
  {
   "cell_type": "markdown",
   "id": "d46f7485",
   "metadata": {},
   "source": [
    "**Convert numpy to tensor**"
   ]
  },
  {
   "cell_type": "code",
   "execution_count": 69,
   "id": "cb2af540",
   "metadata": {},
   "outputs": [
    {
     "data": {
      "text/plain": [
       "tensor([6, 3, 7, 4, 6, 9, 2, 6, 7, 4], dtype=torch.int32)"
      ]
     },
     "execution_count": 69,
     "metadata": {},
     "output_type": "execute_result"
    }
   ],
   "source": [
    "# torch.from_numpy(np_array)\n",
    "t1 = torch.from_numpy(arr)\n",
    "t1"
   ]
  },
  {
   "cell_type": "code",
   "execution_count": 70,
   "id": "2cd2c8a2",
   "metadata": {},
   "outputs": [
    {
     "data": {
      "text/plain": [
       "tensor([6, 3, 7, 4, 6, 9, 2, 6, 7, 4], dtype=torch.int32)"
      ]
     },
     "execution_count": 70,
     "metadata": {},
     "output_type": "execute_result"
    }
   ],
   "source": [
    "# torch.as_tensor(np_array)\n",
    "t1 = torch.as_tensor(arr)\n",
    "t1"
   ]
  },
  {
   "cell_type": "markdown",
   "id": "bce5a152",
   "metadata": {},
   "source": [
    "## 2D tensor"
   ]
  },
  {
   "cell_type": "code",
   "execution_count": 36,
   "id": "f3f1d172",
   "metadata": {},
   "outputs": [
    {
     "data": {
      "text/plain": [
       "tensor([[6, 3, 8],\n",
       "        [0, 7, 6],\n",
       "        [1, 7, 0],\n",
       "        [8, 8, 1]], dtype=torch.int32)"
      ]
     },
     "execution_count": 36,
     "metadata": {},
     "output_type": "execute_result"
    }
   ],
   "source": [
    "arr_2d = np.random.randint(0,10,12).reshape(4,-1)\n",
    "t1_2d  = torch.as_tensor(arr_2d)\n",
    "t1_2d"
   ]
  },
  {
   "cell_type": "markdown",
   "id": "ddaec978",
   "metadata": {},
   "source": [
    "## **Copy**\n",
    "Break link to original tensor, make a copy using\n",
    "```torch.tensor()```"
   ]
  },
  {
   "cell_type": "code",
   "execution_count": 120,
   "id": "289b3bb3",
   "metadata": {},
   "outputs": [
    {
     "data": {
      "text/plain": [
       "array([0, 1, 2, 3, 4, 5, 6, 7, 8, 9])"
      ]
     },
     "execution_count": 120,
     "metadata": {},
     "output_type": "execute_result"
    }
   ],
   "source": [
    "my_arr = np.arange(0,10)\n",
    "my_arr"
   ]
  },
  {
   "cell_type": "code",
   "execution_count": 121,
   "id": "a6151941",
   "metadata": {},
   "outputs": [
    {
     "data": {
      "text/plain": [
       "tensor([0, 1, 2, 3, 4, 5, 6, 7, 8, 9], dtype=torch.int32)"
      ]
     },
     "execution_count": 121,
     "metadata": {},
     "output_type": "execute_result"
    }
   ],
   "source": [
    "my_tensor = torch.tensor(my_arr)\n",
    "my_tensor"
   ]
  },
  {
   "cell_type": "code",
   "execution_count": 122,
   "id": "ccac7bd1",
   "metadata": {},
   "outputs": [
    {
     "data": {
      "text/plain": [
       "tensor([0, 1, 2, 3, 4, 5, 6, 7, 8, 9], dtype=torch.int32)"
      ]
     },
     "execution_count": 122,
     "metadata": {},
     "output_type": "execute_result"
    }
   ],
   "source": [
    "my_other_tensor = torch.from_numpy(my_arr) # Actively shares memory with the original nparray\n",
    "my_other_tensor"
   ]
  },
  {
   "cell_type": "code",
   "execution_count": 123,
   "id": "86fbc340",
   "metadata": {},
   "outputs": [
    {
     "data": {
      "text/plain": [
       "tensor([-1,  1,  2,  3,  4,  5,  6,  7,  8,  9], dtype=torch.int32)"
      ]
     },
     "execution_count": 123,
     "metadata": {},
     "output_type": "execute_result"
    }
   ],
   "source": [
    "# Making changes to original nparray, reflects changes in copies and vice cersa\n",
    "my_arr[0] = -1\n",
    "my_other_tensor"
   ]
  },
  {
   "cell_type": "code",
   "execution_count": 124,
   "id": "9f6961d8",
   "metadata": {},
   "outputs": [
    {
     "data": {
      "text/plain": [
       "array([0, 1, 2, 3, 4, 5, 6, 7, 8, 9])"
      ]
     },
     "execution_count": 124,
     "metadata": {},
     "output_type": "execute_result"
    }
   ],
   "source": [
    "# Making changes to copy of nparray, reflects changes back to original nparray\n",
    "my_other_tensor[0] = 0\n",
    "my_arr"
   ]
  },
  {
   "cell_type": "code",
   "execution_count": 125,
   "id": "1fdf88ce",
   "metadata": {},
   "outputs": [
    {
     "name": "stdout",
     "output_type": "stream",
     "text": [
      "Original nparray: [0 1 2 3 4 5 6 7 8 9]\n",
      "Change to nparray: [-1  1  2  3  4  5  6  7  8  9]\n"
     ]
    },
    {
     "data": {
      "text/plain": [
       "tensor([0, 1, 2, 3, 4, 5, 6, 7, 8, 9], dtype=torch.int32)"
      ]
     },
     "execution_count": 125,
     "metadata": {},
     "output_type": "execute_result"
    }
   ],
   "source": [
    "print(f\"Original nparray: {my_arr}\")\n",
    "my_arr[0] = -1 # Making changes\n",
    "print(f\"Change to nparray: {my_arr}\")\n",
    "my_tensor # Copy of nparray as tensor, remains unaffected (No Linkage, Memory not shared)"
   ]
  },
  {
   "cell_type": "markdown",
   "id": "8550399f",
   "metadata": {},
   "source": [
    "## Difference in tensor and Tensor\n",
    "Float Tensor => torch.Tensor() \\\n",
    "dynamic Tensor => torch.tensor()\n",
    "\n",
    "*Note:* depends on the datatype of the original nparray passed as argument"
   ]
  },
  {
   "cell_type": "code",
   "execution_count": 128,
   "id": "75730530",
   "metadata": {},
   "outputs": [
    {
     "data": {
      "text/plain": [
       "array([0. , 0.1, 0.2, 0.3, 0.4, 0.5, 0.6, 0.7, 0.8, 0.9])"
      ]
     },
     "execution_count": 128,
     "metadata": {},
     "output_type": "execute_result"
    }
   ],
   "source": [
    "my_arr = np.arange(0,1,0.1)\n",
    "my_arr"
   ]
  },
  {
   "cell_type": "code",
   "execution_count": 133,
   "id": "878fea20",
   "metadata": {},
   "outputs": [
    {
     "data": {
      "text/plain": [
       "tensor([0.0000, 0.1000, 0.2000, 0.3000, 0.4000, 0.5000, 0.6000, 0.7000, 0.8000,\n",
       "        0.9000], dtype=torch.float64)"
      ]
     },
     "execution_count": 133,
     "metadata": {},
     "output_type": "execute_result"
    }
   ],
   "source": [
    "torch.tensor(my_arr) # Infers the datatype of my_arr"
   ]
  },
  {
   "cell_type": "code",
   "execution_count": 134,
   "id": "8598b937",
   "metadata": {},
   "outputs": [
    {
     "data": {
      "text/plain": [
       "array([0, 1, 2, 3, 4, 5, 6, 7, 8, 9])"
      ]
     },
     "execution_count": 134,
     "metadata": {},
     "output_type": "execute_result"
    }
   ],
   "source": [
    "my_arr = np.arange(0,10)\n",
    "my_arr"
   ]
  },
  {
   "cell_type": "code",
   "execution_count": 137,
   "id": "c51ddc36",
   "metadata": {},
   "outputs": [
    {
     "name": "stdout",
     "output_type": "stream",
     "text": [
      "tensor([0., 1., 2., 3., 4., 5., 6., 7., 8., 9.])\n",
      "torch.float32\n"
     ]
    }
   ],
   "source": [
    "# t = torch.FloatTensor(my_arr)\n",
    "t = torch.Tensor(my_arr) # Converts to float\n",
    "print(t)\n",
    "print(t.dtype)"
   ]
  },
  {
   "cell_type": "markdown",
   "id": "b127f977",
   "metadata": {},
   "source": [
    "## Initialize empty tensors\n",
    "Place holder tensors with extremely small floating values \\\n",
    "```torch.empty(ndim,...)```"
   ]
  },
  {
   "cell_type": "code",
   "execution_count": 139,
   "id": "85f722c4",
   "metadata": {},
   "outputs": [
    {
     "data": {
      "text/plain": [
       "tensor([[9.1477e-41, 1.8980e+01],\n",
       "        [1.4013e-45, 0.0000e+00]])"
      ]
     },
     "execution_count": 139,
     "metadata": {},
     "output_type": "execute_result"
    }
   ],
   "source": [
    "torch.empty(2,2)"
   ]
  },
  {
   "cell_type": "code",
   "execution_count": 148,
   "id": "ea51726a",
   "metadata": {},
   "outputs": [
    {
     "data": {
      "text/plain": [
       "tensor([[0, 0],\n",
       "        [0, 0]], dtype=torch.int32)"
      ]
     },
     "execution_count": 148,
     "metadata": {},
     "output_type": "execute_result"
    }
   ],
   "source": [
    "torch.zeros(2,2, dtype=torch.int32)"
   ]
  },
  {
   "cell_type": "code",
   "execution_count": null,
   "id": "650e6af0",
   "metadata": {},
   "outputs": [],
   "source": []
  }
 ],
 "metadata": {
  "kernelspec": {
   "display_name": "Python 3 (ipykernel)",
   "language": "python",
   "name": "python3"
  },
  "language_info": {
   "codemirror_mode": {
    "name": "ipython",
    "version": 3
   },
   "file_extension": ".py",
   "mimetype": "text/x-python",
   "name": "python",
   "nbconvert_exporter": "python",
   "pygments_lexer": "ipython3",
   "version": "3.8.0"
  }
 },
 "nbformat": 4,
 "nbformat_minor": 5
}
