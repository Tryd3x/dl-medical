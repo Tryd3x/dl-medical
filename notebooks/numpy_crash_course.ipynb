{
 "cells": [
  {
   "cell_type": "code",
   "execution_count": 1,
   "id": "6d5af986",
   "metadata": {},
   "outputs": [],
   "source": [
    "import numpy as np"
   ]
  },
  {
   "cell_type": "markdown",
   "id": "04060203",
   "metadata": {},
   "source": [
    "## **Create numpy array**"
   ]
  },
  {
   "cell_type": "code",
   "execution_count": 2,
   "id": "7fb369b1",
   "metadata": {},
   "outputs": [
    {
     "data": {
      "text/plain": [
       "array([1, 2, 3, 4])"
      ]
     },
     "execution_count": 2,
     "metadata": {},
     "output_type": "execute_result"
    }
   ],
   "source": [
    "ls = [1,2,3,4]\n",
    "a = np.array(ls)\n",
    "a"
   ]
  },
  {
   "cell_type": "markdown",
   "id": "1ebf69eb",
   "metadata": {},
   "source": [
    "## **Element generator**"
   ]
  },
  {
   "cell_type": "code",
   "execution_count": 3,
   "id": "da1ac7f7",
   "metadata": {},
   "outputs": [
    {
     "data": {
      "text/plain": [
       "array([0, 2, 4, 6, 8])"
      ]
     },
     "execution_count": 3,
     "metadata": {},
     "output_type": "execute_result"
    }
   ],
   "source": [
    "# Sequenced elements with steps\n",
    "# Create a range of elements excluding the end\n",
    "# np.arange(start,end,step)\n",
    "b = np.arange(0,10,2)\n",
    "b"
   ]
  },
  {
   "cell_type": "code",
   "execution_count": 4,
   "id": "02666e5f",
   "metadata": {},
   "outputs": [
    {
     "data": {
      "text/plain": [
       "array([0, 1, 2, 3, 4, 5, 6, 7, 8, 9])"
      ]
     },
     "execution_count": 4,
     "metadata": {},
     "output_type": "execute_result"
    }
   ],
   "source": [
    "# Evenly spaced elements\n",
    "# np.linspace(start,end, #_of_elements)\n",
    "# note: both start and end are inclusive\n",
    "c = np.linspace(0,9,10, dtype='int')\n",
    "c"
   ]
  },
  {
   "cell_type": "markdown",
   "id": "c9e71d14",
   "metadata": {},
   "source": [
    "## Random Generator"
   ]
  },
  {
   "cell_type": "markdown",
   "id": "e1425cc1",
   "metadata": {},
   "source": [
    "**Sets a seed for the generator**\n",
    "- Allows replicating results"
   ]
  },
  {
   "cell_type": "code",
   "execution_count": 5,
   "id": "1f208240",
   "metadata": {},
   "outputs": [],
   "source": [
    "np.random.seed(42)"
   ]
  },
  {
   "cell_type": "code",
   "execution_count": 6,
   "id": "6869a128",
   "metadata": {},
   "outputs": [
    {
     "data": {
      "text/plain": [
       "array([[0.37454012, 0.95071431],\n",
       "       [0.73199394, 0.59865848]])"
      ]
     },
     "execution_count": 6,
     "metadata": {},
     "output_type": "execute_result"
    }
   ],
   "source": [
    "# Uniform random => [0,1]\n",
    "# np.random.rand(row,col)\n",
    "np.random.rand(2,2)"
   ]
  },
  {
   "cell_type": "code",
   "execution_count": 7,
   "id": "a5565836",
   "metadata": {},
   "outputs": [
    {
     "data": {
      "text/plain": [
       "array([[-0.23415337, -0.23413696],\n",
       "       [ 1.57921282,  0.76743473]])"
      ]
     },
     "execution_count": 7,
     "metadata": {},
     "output_type": "execute_result"
    }
   ],
   "source": [
    "# Normal random => [-1,1]\n",
    "# np.random.randn(row,col)\n",
    "np.random.randn(2,2)"
   ]
  },
  {
   "cell_type": "code",
   "execution_count": 8,
   "id": "5936935b",
   "metadata": {},
   "outputs": [
    {
     "data": {
      "text/plain": [
       "array([21, 52,  1, 87, 29, 37,  1, 63, 59, 20])"
      ]
     },
     "execution_count": 8,
     "metadata": {},
     "output_type": "execute_result"
    }
   ],
   "source": [
    "# Integer random => [start, end]\n",
    "# np.random.randint(start,end, #_of_elements)\n",
    "np.random.randint(0,100,10)"
   ]
  },
  {
   "cell_type": "markdown",
   "id": "d36c147a",
   "metadata": {},
   "source": [
    "## **Reshape a numpy array**"
   ]
  },
  {
   "cell_type": "code",
   "execution_count": 9,
   "id": "da7d140e",
   "metadata": {},
   "outputs": [
    {
     "name": "stdout",
     "output_type": "stream",
     "text": [
      "(25,)\n"
     ]
    },
    {
     "data": {
      "text/plain": [
       "array([32, 75, 57, 21, 88, 48, 90, 58, 41, 91, 59, 79, 14, 61, 61, 46, 61,\n",
       "       50, 54, 63,  2, 50,  6, 20, 72])"
      ]
     },
     "execution_count": 9,
     "metadata": {},
     "output_type": "execute_result"
    }
   ],
   "source": [
    "a = np.random.randint(0,100,25)\n",
    "print(a.shape)\n",
    "a"
   ]
  },
  {
   "cell_type": "code",
   "execution_count": 10,
   "id": "2214a18c",
   "metadata": {},
   "outputs": [
    {
     "data": {
      "text/plain": [
       "array([[32, 75, 57, 21, 88],\n",
       "       [48, 90, 58, 41, 91],\n",
       "       [59, 79, 14, 61, 61],\n",
       "       [46, 61, 50, 54, 63],\n",
       "       [ 2, 50,  6, 20, 72]])"
      ]
     },
     "execution_count": 10,
     "metadata": {},
     "output_type": "execute_result"
    }
   ],
   "source": [
    "# np.reshape(numpy_arr, size_to_reshape_to)\n",
    "# size_to_reshape_to => (row,col,...), number of elements in the tuple indicates the dimension of the nparray\n",
    "# Note: setting row or col to -1, autoreshapes/infers accordingly to either attribute\n",
    "# a.reshape(5,-1) # Same as this\n",
    "np.reshape(a,(5,-1)) # here (5,-1) is of length 2, indicating a 2 dimensional aarray"
   ]
  },
  {
   "cell_type": "markdown",
   "id": "f079a1cc",
   "metadata": {},
   "source": [
    "## **Min and Max value of numpy array**"
   ]
  },
  {
   "cell_type": "code",
   "execution_count": 11,
   "id": "3171d2c6",
   "metadata": {},
   "outputs": [
    {
     "data": {
      "text/plain": [
       "91"
      ]
     },
     "execution_count": 11,
     "metadata": {},
     "output_type": "execute_result"
    }
   ],
   "source": [
    "a.max()"
   ]
  },
  {
   "cell_type": "code",
   "execution_count": 12,
   "id": "31720b35",
   "metadata": {},
   "outputs": [
    {
     "data": {
      "text/plain": [
       "2"
      ]
     },
     "execution_count": 12,
     "metadata": {},
     "output_type": "execute_result"
    }
   ],
   "source": [
    "a.min()"
   ]
  },
  {
   "cell_type": "markdown",
   "id": "bd7ae458",
   "metadata": {},
   "source": [
    "## **Index of Min and Max value of numpy array**"
   ]
  },
  {
   "cell_type": "code",
   "execution_count": 13,
   "id": "30f40c96",
   "metadata": {},
   "outputs": [
    {
     "data": {
      "text/plain": [
       "9"
      ]
     },
     "execution_count": 13,
     "metadata": {},
     "output_type": "execute_result"
    }
   ],
   "source": [
    "a.argmax()"
   ]
  },
  {
   "cell_type": "code",
   "execution_count": 14,
   "id": "a90bf743",
   "metadata": {},
   "outputs": [
    {
     "data": {
      "text/plain": [
       "20"
      ]
     },
     "execution_count": 14,
     "metadata": {},
     "output_type": "execute_result"
    }
   ],
   "source": [
    "a.argmin()"
   ]
  },
  {
   "cell_type": "code",
   "execution_count": 15,
   "id": "95b652cb",
   "metadata": {},
   "outputs": [
    {
     "data": {
      "text/plain": [
       "dtype('int32')"
      ]
     },
     "execution_count": 15,
     "metadata": {},
     "output_type": "execute_result"
    }
   ],
   "source": [
    "# type of numpy array\n",
    "a.dtype"
   ]
  },
  {
   "cell_type": "markdown",
   "id": "03260c46",
   "metadata": {},
   "source": [
    "## **nparray linkage**"
   ]
  },
  {
   "cell_type": "code",
   "execution_count": 16,
   "id": "8cb21ae7",
   "metadata": {},
   "outputs": [
    {
     "data": {
      "text/plain": [
       "array([38, 17,  3, 24, 13, 49,  8, 25,  1, 19, 27, 46,  6, 43,  7, 46, 34,\n",
       "       13, 16, 35])"
      ]
     },
     "execution_count": 16,
     "metadata": {},
     "output_type": "execute_result"
    }
   ],
   "source": [
    "a = np.random.randint(0,50,20)\n",
    "a"
   ]
  },
  {
   "cell_type": "code",
   "execution_count": 17,
   "id": "efb521c9",
   "metadata": {},
   "outputs": [
    {
     "data": {
      "text/plain": [
       "array([0, 0, 0, 0, 0, 0])"
      ]
     },
     "execution_count": 17,
     "metadata": {},
     "output_type": "execute_result"
    }
   ],
   "source": [
    "# Modifying segment of nparray a\n",
    "slice_of_a = a[:6]\n",
    "slice_of_a[:] = 0\n",
    "slice_of_a"
   ]
  },
  {
   "cell_type": "code",
   "execution_count": 18,
   "id": "a21f1f35",
   "metadata": {},
   "outputs": [
    {
     "data": {
      "text/plain": [
       "array([ 0,  0,  0,  0,  0,  0,  8, 25,  1, 19, 27, 46,  6, 43,  7, 46, 34,\n",
       "       13, 16, 35])"
      ]
     },
     "execution_count": 18,
     "metadata": {},
     "output_type": "execute_result"
    }
   ],
   "source": [
    "# Accessing original nparray\n",
    "a"
   ]
  },
  {
   "cell_type": "markdown",
   "id": "15e02a9a",
   "metadata": {},
   "source": [
    "## **Break linkage**\n",
    "**To prevent overriding of original array, use ```.copy()```**"
   ]
  },
  {
   "cell_type": "code",
   "execution_count": 19,
   "id": "e0bd002d",
   "metadata": {},
   "outputs": [
    {
     "data": {
      "text/plain": [
       "array([ 0,  0,  0,  0,  0,  0,  8, 25,  1, 19, 27, 46,  6, 43,  7, 46, 34,\n",
       "       13, 16, 35])"
      ]
     },
     "execution_count": 19,
     "metadata": {},
     "output_type": "execute_result"
    }
   ],
   "source": [
    "b = a.copy()\n",
    "b"
   ]
  },
  {
   "cell_type": "code",
   "execution_count": 20,
   "id": "f11ffde4",
   "metadata": {},
   "outputs": [
    {
     "data": {
      "text/plain": [
       "array([20, 20, 20, 20, 20, 20,  8, 25,  1, 19, 27, 46,  6, 43,  7, 46, 34,\n",
       "       13, 16, 35])"
      ]
     },
     "execution_count": 20,
     "metadata": {},
     "output_type": "execute_result"
    }
   ],
   "source": [
    "b[:6] = 20\n",
    "b"
   ]
  },
  {
   "cell_type": "code",
   "execution_count": 21,
   "id": "610e046e",
   "metadata": {},
   "outputs": [
    {
     "data": {
      "text/plain": [
       "array([ 0,  0,  0,  0,  0,  0,  8, 25,  1, 19, 27, 46,  6, 43,  7, 46, 34,\n",
       "       13, 16, 35])"
      ]
     },
     "execution_count": 21,
     "metadata": {},
     "output_type": "execute_result"
    }
   ],
   "source": [
    "a # Unchanged"
   ]
  },
  {
   "cell_type": "markdown",
   "id": "65734835",
   "metadata": {},
   "source": [
    "## **Slicing nparray**"
   ]
  },
  {
   "cell_type": "code",
   "execution_count": 22,
   "id": "db0d917e",
   "metadata": {},
   "outputs": [
    {
     "data": {
      "text/plain": [
       "array([[ 5, 10, 15],\n",
       "       [20, 25, 30],\n",
       "       [35, 40, 45]])"
      ]
     },
     "execution_count": 22,
     "metadata": {},
     "output_type": "execute_result"
    }
   ],
   "source": [
    "arr_2d = np.array(\n",
    "    [\n",
    "        [5,10,15],\n",
    "        [20,25,30],\n",
    "        [35,40,45]\n",
    "    ]\n",
    ")\n",
    "arr_2d"
   ]
  },
  {
   "cell_type": "code",
   "execution_count": 23,
   "id": "883191f4",
   "metadata": {},
   "outputs": [
    {
     "data": {
      "text/plain": [
       "array([[10, 15],\n",
       "       [25, 30]])"
      ]
     },
     "execution_count": 23,
     "metadata": {},
     "output_type": "execute_result"
    }
   ],
   "source": [
    "arr_2d[:2,1:]"
   ]
  },
  {
   "cell_type": "markdown",
   "id": "fbe3f88e",
   "metadata": {},
   "source": [
    "## **Filter nparray**"
   ]
  },
  {
   "cell_type": "code",
   "execution_count": 24,
   "id": "a7579142",
   "metadata": {},
   "outputs": [
    {
     "data": {
      "text/plain": [
       "array([0, 1, 2, 3, 4, 5, 6, 7, 8, 9])"
      ]
     },
     "execution_count": 24,
     "metadata": {},
     "output_type": "execute_result"
    }
   ],
   "source": [
    "arr = np.arange(0,10)\n",
    "arr"
   ]
  },
  {
   "cell_type": "code",
   "execution_count": 25,
   "id": "ca64e8c6",
   "metadata": {},
   "outputs": [
    {
     "data": {
      "text/plain": [
       "array([False, False, False, False, False,  True,  True,  True,  True,\n",
       "        True])"
      ]
     },
     "execution_count": 25,
     "metadata": {},
     "output_type": "execute_result"
    }
   ],
   "source": [
    "flag = arr > 4\n",
    "flag"
   ]
  },
  {
   "cell_type": "code",
   "execution_count": 26,
   "id": "bd2cda91",
   "metadata": {},
   "outputs": [
    {
     "data": {
      "text/plain": [
       "array([5, 6, 7, 8, 9])"
      ]
     },
     "execution_count": 26,
     "metadata": {},
     "output_type": "execute_result"
    }
   ],
   "source": [
    "arr[flag]"
   ]
  },
  {
   "cell_type": "markdown",
   "id": "436a8278",
   "metadata": {},
   "source": [
    "## **Error handling by numpy**"
   ]
  },
  {
   "cell_type": "code",
   "execution_count": 27,
   "id": "f56687be",
   "metadata": {},
   "outputs": [
    {
     "name": "stderr",
     "output_type": "stream",
     "text": [
      "C:\\Users\\hyder\\AppData\\Local\\Temp/ipykernel_34052/4291252909.py:1: RuntimeWarning: divide by zero encountered in true_divide\n",
      "  arr/0\n",
      "C:\\Users\\hyder\\AppData\\Local\\Temp/ipykernel_34052/4291252909.py:1: RuntimeWarning: invalid value encountered in true_divide\n",
      "  arr/0\n"
     ]
    },
    {
     "data": {
      "text/plain": [
       "array([nan, inf, inf, inf, inf, inf, inf, inf, inf, inf])"
      ]
     },
     "execution_count": 27,
     "metadata": {},
     "output_type": "execute_result"
    }
   ],
   "source": [
    "arr/0"
   ]
  },
  {
   "cell_type": "code",
   "execution_count": 28,
   "id": "5b1aa43f",
   "metadata": {},
   "outputs": [
    {
     "name": "stdout",
     "output_type": "stream",
     "text": [
      "[[ 5 10 15]\n",
      " [20 25 30]\n",
      " [35 40 45]]\n",
      "\n",
      "[60 75 90]\n",
      "\n",
      "[ 30  75 120]\n"
     ]
    }
   ],
   "source": [
    "print(arr_2d)\n",
    "print()\n",
    "# axis = 0 : Sum across rows (top to bottom)\n",
    "print(arr_2d.sum(axis=0))\n",
    "print()\n",
    "# axis = 1: Sum across columns (left to right)\n",
    "print(arr_2d.sum(axis=1))"
   ]
  },
  {
   "cell_type": "code",
   "execution_count": null,
   "id": "68a7d71c",
   "metadata": {},
   "outputs": [],
   "source": []
  }
 ],
 "metadata": {
  "kernelspec": {
   "display_name": "Python 3 (ipykernel)",
   "language": "python",
   "name": "python3"
  },
  "language_info": {
   "codemirror_mode": {
    "name": "ipython",
    "version": 3
   },
   "file_extension": ".py",
   "mimetype": "text/x-python",
   "name": "python",
   "nbconvert_exporter": "python",
   "pygments_lexer": "ipython3",
   "version": "3.8.0"
  }
 },
 "nbformat": 4,
 "nbformat_minor": 5
}
