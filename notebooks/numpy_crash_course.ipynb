{
 "cells": [
  {
   "cell_type": "code",
   "execution_count": 1,
   "id": "6d5af986",
   "metadata": {},
   "outputs": [],
   "source": [
    "import numpy as np"
   ]
  },
  {
   "cell_type": "markdown",
   "id": "04060203",
   "metadata": {},
   "source": [
    "**Create numpy array**"
   ]
  },
  {
   "cell_type": "code",
   "execution_count": 84,
   "id": "7fb369b1",
   "metadata": {},
   "outputs": [
    {
     "data": {
      "text/plain": [
       "array([1, 2, 3, 4])"
      ]
     },
     "execution_count": 84,
     "metadata": {},
     "output_type": "execute_result"
    }
   ],
   "source": [
    "ls = [1,2,3,4]\n",
    "a = np.array(ls)\n",
    "a"
   ]
  },
  {
   "cell_type": "markdown",
   "id": "1ebf69eb",
   "metadata": {},
   "source": [
    "## **Create a range of elements**"
   ]
  },
  {
   "cell_type": "code",
   "execution_count": 87,
   "id": "da1ac7f7",
   "metadata": {},
   "outputs": [
    {
     "data": {
      "text/plain": [
       "array([0, 2, 4, 6, 8])"
      ]
     },
     "execution_count": 87,
     "metadata": {},
     "output_type": "execute_result"
    }
   ],
   "source": [
    "# Create a range of elements excluding the end\n",
    "# np.arange(start,end,step)\n",
    "b = np.arange(0,10,2)\n",
    "b"
   ]
  },
  {
   "cell_type": "code",
   "execution_count": 91,
   "id": "02666e5f",
   "metadata": {},
   "outputs": [
    {
     "data": {
      "text/plain": [
       "array([0, 1, 2, 3, 4, 5, 6, 7, 8, 9])"
      ]
     },
     "execution_count": 91,
     "metadata": {},
     "output_type": "execute_result"
    }
   ],
   "source": [
    "# np.linspace(start,end, #_of_elements)\n",
    "# note: both start and end are inclusive\n",
    "c = np.linspace(0,9,10, dtype='int')\n",
    "c"
   ]
  },
  {
   "cell_type": "markdown",
   "id": "c9e71d14",
   "metadata": {},
   "source": [
    "## Create a random numpy array "
   ]
  },
  {
   "cell_type": "markdown",
   "id": "e1425cc1",
   "metadata": {},
   "source": [
    "**Sets a seed for the generator**"
   ]
  },
  {
   "cell_type": "code",
   "execution_count": 99,
   "id": "1f208240",
   "metadata": {},
   "outputs": [],
   "source": [
    "np.random.seed(42)"
   ]
  },
  {
   "cell_type": "code",
   "execution_count": 97,
   "id": "6869a128",
   "metadata": {},
   "outputs": [
    {
     "data": {
      "text/plain": [
       "array([[0.17768785, 0.96433793],\n",
       "       [0.64397404, 0.61164817]])"
      ]
     },
     "execution_count": 97,
     "metadata": {},
     "output_type": "execute_result"
    }
   ],
   "source": [
    "# Uniform random => [0,1]\n",
    "# np.random.rand(row,col)\n",
    "np.random.rand(2,2)"
   ]
  },
  {
   "cell_type": "code",
   "execution_count": 96,
   "id": "a5565836",
   "metadata": {},
   "outputs": [
    {
     "data": {
      "text/plain": [
       "array([[ 1.35116764,  1.99885781],\n",
       "       [-0.37477682, -0.24527036]])"
      ]
     },
     "execution_count": 96,
     "metadata": {},
     "output_type": "execute_result"
    }
   ],
   "source": [
    "# Normal random => [-1,1]\n",
    "# np.random.randn(row,col)\n",
    "np.random.randn(2,2)"
   ]
  },
  {
   "cell_type": "code",
   "execution_count": 98,
   "id": "5936935b",
   "metadata": {},
   "outputs": [
    {
     "data": {
      "text/plain": [
       "array([ 6, 38, 45, 48, 32, 69, 36, 41, 96, 61])"
      ]
     },
     "execution_count": 98,
     "metadata": {},
     "output_type": "execute_result"
    }
   ],
   "source": [
    "# Integer random => [start, end]\n",
    "# np.random.randint(start,end, #_of_elements)\n",
    "np.random.randint(0,100,10)"
   ]
  },
  {
   "cell_type": "markdown",
   "id": "d36c147a",
   "metadata": {},
   "source": [
    "**Reshape a numpy array**"
   ]
  },
  {
   "cell_type": "code",
   "execution_count": 103,
   "id": "da7d140e",
   "metadata": {},
   "outputs": [
    {
     "name": "stdout",
     "output_type": "stream",
     "text": [
      "(25,)\n"
     ]
    },
    {
     "data": {
      "text/plain": [
       "array([ 3, 53, 92, 62, 17, 89, 43, 33, 73, 61, 99, 13, 94, 47, 14, 71, 77,\n",
       "       86, 61, 39, 84, 79, 81, 52, 23])"
      ]
     },
     "execution_count": 103,
     "metadata": {},
     "output_type": "execute_result"
    }
   ],
   "source": [
    "a = np.random.randint(0,100,25)\n",
    "print(a.shape)\n",
    "a"
   ]
  },
  {
   "cell_type": "code",
   "execution_count": 104,
   "id": "2214a18c",
   "metadata": {},
   "outputs": [
    {
     "data": {
      "text/plain": [
       "array([[ 3, 53, 92, 62, 17],\n",
       "       [89, 43, 33, 73, 61],\n",
       "       [99, 13, 94, 47, 14],\n",
       "       [71, 77, 86, 61, 39],\n",
       "       [84, 79, 81, 52, 23]])"
      ]
     },
     "execution_count": 104,
     "metadata": {},
     "output_type": "execute_result"
    }
   ],
   "source": [
    "# np.reshape(numpy_arr, size_to_reshape_to)\n",
    "# size_to_reshape_to => (row,col)\n",
    "# Note: setting row or col to -1, autoreshapes accordingly to either attribute\n",
    "np.reshape(a,(5,-1))"
   ]
  },
  {
   "cell_type": "markdown",
   "id": "f079a1cc",
   "metadata": {},
   "source": [
    "**Min and Max value of numpy array**"
   ]
  },
  {
   "cell_type": "code",
   "execution_count": 105,
   "id": "3171d2c6",
   "metadata": {},
   "outputs": [
    {
     "data": {
      "text/plain": [
       "99"
      ]
     },
     "execution_count": 105,
     "metadata": {},
     "output_type": "execute_result"
    }
   ],
   "source": [
    "a.max()"
   ]
  },
  {
   "cell_type": "code",
   "execution_count": 106,
   "id": "31720b35",
   "metadata": {},
   "outputs": [
    {
     "data": {
      "text/plain": [
       "3"
      ]
     },
     "execution_count": 106,
     "metadata": {},
     "output_type": "execute_result"
    }
   ],
   "source": [
    "a.min()"
   ]
  },
  {
   "cell_type": "markdown",
   "id": "bd7ae458",
   "metadata": {},
   "source": [
    "**Index of Min and Max value of numpy array**"
   ]
  },
  {
   "cell_type": "code",
   "execution_count": 107,
   "id": "30f40c96",
   "metadata": {},
   "outputs": [
    {
     "data": {
      "text/plain": [
       "10"
      ]
     },
     "execution_count": 107,
     "metadata": {},
     "output_type": "execute_result"
    }
   ],
   "source": [
    "a.argmax()"
   ]
  },
  {
   "cell_type": "code",
   "execution_count": 108,
   "id": "a90bf743",
   "metadata": {},
   "outputs": [
    {
     "data": {
      "text/plain": [
       "0"
      ]
     },
     "execution_count": 108,
     "metadata": {},
     "output_type": "execute_result"
    }
   ],
   "source": [
    "a.argmin()"
   ]
  },
  {
   "cell_type": "code",
   "execution_count": 111,
   "id": "95b652cb",
   "metadata": {},
   "outputs": [
    {
     "data": {
      "text/plain": [
       "dtype('int32')"
      ]
     },
     "execution_count": 111,
     "metadata": {},
     "output_type": "execute_result"
    }
   ],
   "source": [
    "# type of numpy array\n",
    "a.dtype"
   ]
  },
  {
   "cell_type": "markdown",
   "id": "03260c46",
   "metadata": {},
   "source": [
    "**Numpy array broadcast**"
   ]
  },
  {
   "cell_type": "code",
   "execution_count": 117,
   "id": "8cb21ae7",
   "metadata": {},
   "outputs": [
    {
     "data": {
      "text/plain": [
       "array([25, 24, 44, 40, 28, 14, 44,  0, 24,  6,  8, 23,  0, 43,  7, 23, 10,\n",
       "       16,  7, 34])"
      ]
     },
     "execution_count": 117,
     "metadata": {},
     "output_type": "execute_result"
    }
   ],
   "source": [
    "a = np.random.randint(0,50,20)\n",
    "a"
   ]
  },
  {
   "cell_type": "code",
   "execution_count": 118,
   "id": "efb521c9",
   "metadata": {},
   "outputs": [
    {
     "data": {
      "text/plain": [
       "array([0, 0, 0, 0, 0, 0])"
      ]
     },
     "execution_count": 118,
     "metadata": {},
     "output_type": "execute_result"
    }
   ],
   "source": [
    "# Modifying segment of nparray a\n",
    "slice_of_a = a[:6]\n",
    "slice_of_a[:] = 0\n",
    "slice_of_a"
   ]
  },
  {
   "cell_type": "code",
   "execution_count": 119,
   "id": "a21f1f35",
   "metadata": {},
   "outputs": [
    {
     "data": {
      "text/plain": [
       "array([ 0,  0,  0,  0,  0,  0, 44,  0, 24,  6,  8, 23,  0, 43,  7, 23, 10,\n",
       "       16,  7, 34])"
      ]
     },
     "execution_count": 119,
     "metadata": {},
     "output_type": "execute_result"
    }
   ],
   "source": [
    "# Accessing original nparray\n",
    "a"
   ]
  },
  {
   "cell_type": "markdown",
   "id": "15e02a9a",
   "metadata": {},
   "source": [
    "**To prevent overriding of original array, use .copy()**"
   ]
  },
  {
   "cell_type": "code",
   "execution_count": 123,
   "id": "e0bd002d",
   "metadata": {},
   "outputs": [
    {
     "data": {
      "text/plain": [
       "array([ 0,  0,  0,  0,  0,  0, 44,  0, 24,  6,  8, 23,  0, 43,  7, 23, 10,\n",
       "       16,  7, 34])"
      ]
     },
     "execution_count": 123,
     "metadata": {},
     "output_type": "execute_result"
    }
   ],
   "source": [
    "b = a.copy()\n",
    "b"
   ]
  },
  {
   "cell_type": "code",
   "execution_count": 124,
   "id": "f11ffde4",
   "metadata": {},
   "outputs": [
    {
     "data": {
      "text/plain": [
       "array([20, 20, 20, 20, 20, 20, 44,  0, 24,  6,  8, 23,  0, 43,  7, 23, 10,\n",
       "       16,  7, 34])"
      ]
     },
     "execution_count": 124,
     "metadata": {},
     "output_type": "execute_result"
    }
   ],
   "source": [
    "b[:6] = 20\n",
    "b"
   ]
  },
  {
   "cell_type": "code",
   "execution_count": 125,
   "id": "610e046e",
   "metadata": {},
   "outputs": [
    {
     "data": {
      "text/plain": [
       "array([ 0,  0,  0,  0,  0,  0, 44,  0, 24,  6,  8, 23,  0, 43,  7, 23, 10,\n",
       "       16,  7, 34])"
      ]
     },
     "execution_count": 125,
     "metadata": {},
     "output_type": "execute_result"
    }
   ],
   "source": [
    "a # Unchanged"
   ]
  },
  {
   "cell_type": "markdown",
   "id": "65734835",
   "metadata": {},
   "source": [
    "**Slicing nparray**"
   ]
  },
  {
   "cell_type": "code",
   "execution_count": 127,
   "id": "db0d917e",
   "metadata": {},
   "outputs": [
    {
     "data": {
      "text/plain": [
       "array([[ 5, 10, 15],\n",
       "       [20, 25, 30],\n",
       "       [35, 40, 45]])"
      ]
     },
     "execution_count": 127,
     "metadata": {},
     "output_type": "execute_result"
    }
   ],
   "source": [
    "arr_2d = np.array(\n",
    "    [\n",
    "        [5,10,15],\n",
    "        [20,25,30],\n",
    "        [35,40,45]\n",
    "    ]\n",
    ")\n",
    "arr_2d"
   ]
  },
  {
   "cell_type": "code",
   "execution_count": 128,
   "id": "883191f4",
   "metadata": {},
   "outputs": [
    {
     "data": {
      "text/plain": [
       "array([[10, 15],\n",
       "       [25, 30]])"
      ]
     },
     "execution_count": 128,
     "metadata": {},
     "output_type": "execute_result"
    }
   ],
   "source": [
    "arr_2d[:2,1:]"
   ]
  },
  {
   "cell_type": "markdown",
   "id": "fbe3f88e",
   "metadata": {},
   "source": [
    "**Filter nparray**"
   ]
  },
  {
   "cell_type": "code",
   "execution_count": 129,
   "id": "a7579142",
   "metadata": {},
   "outputs": [
    {
     "data": {
      "text/plain": [
       "array([0, 1, 2, 3, 4, 5, 6, 7, 8, 9])"
      ]
     },
     "execution_count": 129,
     "metadata": {},
     "output_type": "execute_result"
    }
   ],
   "source": [
    "arr = np.arange(0,10)\n",
    "arr"
   ]
  },
  {
   "cell_type": "code",
   "execution_count": 134,
   "id": "ca64e8c6",
   "metadata": {},
   "outputs": [
    {
     "data": {
      "text/plain": [
       "array([False, False, False, False, False,  True,  True,  True,  True,\n",
       "        True])"
      ]
     },
     "execution_count": 134,
     "metadata": {},
     "output_type": "execute_result"
    }
   ],
   "source": [
    "flag = arr > 4\n",
    "flag"
   ]
  },
  {
   "cell_type": "code",
   "execution_count": 138,
   "id": "bd2cda91",
   "metadata": {},
   "outputs": [
    {
     "data": {
      "text/plain": [
       "array([5, 6, 7, 8, 9])"
      ]
     },
     "execution_count": 138,
     "metadata": {},
     "output_type": "execute_result"
    }
   ],
   "source": [
    "arr[flag]"
   ]
  },
  {
   "cell_type": "markdown",
   "id": "436a8278",
   "metadata": {},
   "source": [
    "**Error handling by numpy**"
   ]
  },
  {
   "cell_type": "code",
   "execution_count": 142,
   "id": "f56687be",
   "metadata": {},
   "outputs": [
    {
     "name": "stderr",
     "output_type": "stream",
     "text": [
      "C:\\Users\\hyder\\AppData\\Local\\Temp/ipykernel_7252/4291252909.py:1: RuntimeWarning: divide by zero encountered in true_divide\n",
      "  arr/0\n",
      "C:\\Users\\hyder\\AppData\\Local\\Temp/ipykernel_7252/4291252909.py:1: RuntimeWarning: invalid value encountered in true_divide\n",
      "  arr/0\n"
     ]
    },
    {
     "data": {
      "text/plain": [
       "array([nan, inf, inf, inf, inf, inf, inf, inf, inf, inf])"
      ]
     },
     "execution_count": 142,
     "metadata": {},
     "output_type": "execute_result"
    }
   ],
   "source": [
    "arr/0"
   ]
  },
  {
   "cell_type": "code",
   "execution_count": 154,
   "id": "5b1aa43f",
   "metadata": {},
   "outputs": [
    {
     "name": "stdout",
     "output_type": "stream",
     "text": [
      "[[ 5 10 15]\n",
      " [20 25 30]\n",
      " [35 40 45]]\n",
      "\n",
      "[60 75 90]\n",
      "\n",
      "[ 30  75 120]\n"
     ]
    }
   ],
   "source": [
    "print(arr_2d)\n",
    "print()\n",
    "# axis = 0 : Sum across rows (top to bottom)\n",
    "print(arr_2d.sum(axis=0))\n",
    "print()\n",
    "# axis = 1: Sum across columns (left to right)\n",
    "print(arr_2d.sum(axis=1))"
   ]
  },
  {
   "cell_type": "code",
   "execution_count": null,
   "id": "68a7d71c",
   "metadata": {},
   "outputs": [],
   "source": []
  }
 ],
 "metadata": {
  "kernelspec": {
   "display_name": "Python 3 (ipykernel)",
   "language": "python",
   "name": "python3"
  },
  "language_info": {
   "codemirror_mode": {
    "name": "ipython",
    "version": 3
   },
   "file_extension": ".py",
   "mimetype": "text/x-python",
   "name": "python",
   "nbconvert_exporter": "python",
   "pygments_lexer": "ipython3",
   "version": "3.8.0"
  }
 },
 "nbformat": 4,
 "nbformat_minor": 5
}
