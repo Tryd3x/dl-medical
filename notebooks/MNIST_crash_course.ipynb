{
 "cells": [
  {
   "cell_type": "code",
   "execution_count": 1,
   "id": "dd165655",
   "metadata": {},
   "outputs": [],
   "source": [
    "from IPython.display import clear_output\n",
    "\n",
    "import numpy as np\n",
    "import pandas as pd\n",
    "import matplotlib.pyplot as plt\n",
    "%matplotlib inline\n",
    "\n",
    "from sklearn.metrics import confusion_matrix\n",
    "\n",
    "import torch\n",
    "import torch.nn as nn # Base module for implementing Neural Networks\n",
    "import torch.nn.functional as F # This manually forwards the data from one layer to the next\n",
    "from torch.optim import Adam # Model Optimizer\n",
    "\n",
    "from torch.utils.data import DataLoader # This allowes us to load data in batches\n",
    "from torchvision import datasets, transforms\n",
    "\n",
    "torch.manual_seed(101);"
   ]
  },
  {
   "cell_type": "code",
   "execution_count": 2,
   "id": "cb43f21b",
   "metadata": {},
   "outputs": [],
   "source": [
    "# Set transform\n",
    "transform = transforms.ToTensor()"
   ]
  },
  {
   "cell_type": "code",
   "execution_count": 3,
   "id": "b2ad6807",
   "metadata": {},
   "outputs": [
    {
     "name": "stderr",
     "output_type": "stream",
     "text": [
      "D:\\Codehub\\dl-medical\\env\\lib\\site-packages\\torchvision\\datasets\\mnist.py:498: UserWarning: The given NumPy array is not writeable, and PyTorch does not support non-writeable tensors. This means you can write to the underlying (supposedly non-writeable) NumPy array using the tensor. You may want to copy the array to protect its data or make it writeable before converting it to a tensor. This type of warning will be suppressed for the rest of this program. (Triggered internally at  ..\\torch\\csrc\\utils\\tensor_numpy.cpp:180.)\n",
      "  return torch.from_numpy(parsed.astype(m[2], copy=False)).view(*s)\n"
     ]
    }
   ],
   "source": [
    "train_data = datasets.MNIST(\n",
    "    root = \"../datasets/\",\n",
    "    train = True,\n",
    "    download = True,\n",
    "    transform = transform\n",
    ")"
   ]
  },
  {
   "cell_type": "code",
   "execution_count": 4,
   "id": "8e6ba73d",
   "metadata": {},
   "outputs": [],
   "source": [
    "test_data = datasets.MNIST(\n",
    "    root = '../datasets/',\n",
    "    train = False,\n",
    "    download = True,\n",
    "    transform = transform\n",
    ")"
   ]
  },
  {
   "cell_type": "code",
   "execution_count": 5,
   "id": "05a71a56",
   "metadata": {},
   "outputs": [
    {
     "name": "stdout",
     "output_type": "stream",
     "text": [
      "Dataset MNIST\n",
      "    Number of datapoints: 60000\n",
      "    Root location: ../datasets/\n",
      "    Split: Train\n",
      "    StandardTransform\n",
      "Transform: ToTensor()\n",
      "Dataset MNIST\n",
      "    Number of datapoints: 10000\n",
      "    Root location: ../datasets/\n",
      "    Split: Test\n",
      "    StandardTransform\n",
      "Transform: ToTensor()\n"
     ]
    }
   ],
   "source": [
    "print(train_data)\n",
    "print(test_data)"
   ]
  },
  {
   "cell_type": "code",
   "execution_count": 6,
   "id": "c787bc6a",
   "metadata": {},
   "outputs": [
    {
     "name": "stdout",
     "output_type": "stream",
     "text": [
      "60000\n",
      "torch.Size([1, 28, 28])\n"
     ]
    },
    {
     "data": {
      "text/plain": [
       "<matplotlib.image.AxesImage at 0x2a4ff9bd700>"
      ]
     },
     "execution_count": 6,
     "metadata": {},
     "output_type": "execute_result"
    },
    {
     "data": {
      "image/png": "[encoded data removed]",
      "text/plain": [
       "<Figure size 432x288 with 1 Axes>"
      ]
     },
     "metadata": {
      "needs_background": "light"
     },
     "output_type": "display_data"
    }
   ],
   "source": [
    "image, label = train_data[0]\n",
    "print(len(train_data))\n",
    "print(image.shape) # tensor format: Channel, width, height\n",
    "plt.imshow(image.reshape(28,28), cmap='gray')"
   ]
  },
  {
   "cell_type": "code",
   "execution_count": 7,
   "id": "f1fd34ca",
   "metadata": {},
   "outputs": [
    {
     "name": "stdout",
     "output_type": "stream",
     "text": [
      "train_loader: 600\n",
      "test_loader: 20\n"
     ]
    }
   ],
   "source": [
    "train_loader = DataLoader(train_data, batch_size = 100, shuffle = True)\n",
    "test_loader = DataLoader(test_data, batch_size = 500, shuffle = False)\n",
    "\n",
    "print(f\"train_loader: {len(train_loader)}\")\n",
    "print(f\"test_loader: {len(test_loader)}\")"
   ]
  },
  {
   "cell_type": "code",
   "execution_count": 8,
   "id": "dc73e2bd",
   "metadata": {},
   "outputs": [],
   "source": [
    "from torchvision.utils import make_grid\n",
    "np.set_printoptions(formatter = dict(int=lambda x: f\"{x:5}\")) # FORMATTING"
   ]
  },
  {
   "cell_type": "code",
   "execution_count": 9,
   "id": "bfb45ae2",
   "metadata": {},
   "outputs": [
    {
     "name": "stdout",
     "output_type": "stream",
     "text": [
      "torch.Size([100, 1, 28, 28])\n",
      "torch.Size([100])\n"
     ]
    }
   ],
   "source": [
    "for images,labels in train_loader:\n",
    "    break\n",
    "print(images.shape)\n",
    "print(labels.shape)"
   ]
  },
  {
   "cell_type": "code",
   "execution_count": 10,
   "id": "d651c7c9",
   "metadata": {},
   "outputs": [
    {
     "name": "stdout",
     "output_type": "stream",
     "text": [
      "Labels:\n",
      " [    7     2     3     5     8     5     3     6     9     9     1     3]\n"
     ]
    },
    {
     "data": {
      "image/png": "[encoded data removed]",
      "text/plain": [
       "<Figure size 720x288 with 1 Axes>"
      ]
     },
     "metadata": {
      "needs_background": "light"
     },
     "output_type": "display_data"
    }
   ],
   "source": [
    "print(f'Labels:\\n {labels[:12].numpy()}')\n",
    "\n",
    "im = make_grid(images[:12], nrow=12).numpy()\n",
    "plt.figure(figsize = (10,4))\n",
    "# Transpose images from Channel, Width, Height (CWH) to WHC\n",
    "# np.transpose(a,b)\n",
    "# b => Tuple => (x,y,z) Order of transposing the index\n",
    "plt.imshow(np.transpose(im, (1,2,0))); "
   ]
  },
  {
   "cell_type": "code",
   "execution_count": 11,
   "id": "11bbd7ca",
   "metadata": {},
   "outputs": [],
   "source": [
    "class MultiLayerPerceptron(nn.Module):\n",
    "    def __init__(self, in_sz = 784, out_sz=10, layers = [120,84]):\n",
    "        # in_sz = size of input layer\n",
    "        # out_sz = size of output layer\n",
    "        # layers = number of neurons in each layer (indexed based)\n",
    "        \n",
    "        super().__init__()\n",
    "        \n",
    "        # Here fc is a function initialized by nn.Linear(), it accepts input parameter X, hence fc(X)\n",
    "        self.fc1 = nn.Linear(in_sz,layers[0]) # Fully connected Layer: input -> hidden_1\n",
    "        self.fc2 = nn.Linear(layers[0],layers[1]) # Fully connected Layer: hidden_1 -> hidden_2\n",
    "        self.fc3 = nn.Linear(layers[1], out_sz) # Fully connected Layer: hidden_2 -> output\n",
    "        \n",
    "    def forward(self,X):\n",
    "        \n",
    "        X = F.relu(self.fc1(X))\n",
    "        X = F.relu(self.fc2(X))\n",
    "        X = F.log_softmax(self.fc3(X),dim=1)\n",
    "        \n",
    "        return X"
   ]
  },
  {
   "cell_type": "code",
   "execution_count": 12,
   "id": "2d119d8e",
   "metadata": {},
   "outputs": [
    {
     "data": {
      "text/plain": [
       "MultiLayerPerceptron(\n",
       "  (fc1): Linear(in_features=784, out_features=120, bias=True)\n",
       "  (fc2): Linear(in_features=120, out_features=84, bias=True)\n",
       "  (fc3): Linear(in_features=84, out_features=10, bias=True)\n",
       ")"
      ]
     },
     "execution_count": 12,
     "metadata": {},
     "output_type": "execute_result"
    }
   ],
   "source": [
    "torch.manual_seed(101)\n",
    "model = MultiLayerPerceptron()\n",
    "model"
   ]
  },
  {
   "cell_type": "code",
   "execution_count": 13,
   "id": "295ac2e2",
   "metadata": {},
   "outputs": [
    {
     "name": "stdout",
     "output_type": "stream",
     "text": [
      "# of parameters: 105214\n"
     ]
    }
   ],
   "source": [
    "print(f\"# of parameters: {sum([p.numel() for p in model.parameters()])}\")"
   ]
  },
  {
   "cell_type": "code",
   "execution_count": 14,
   "id": "7377bd34",
   "metadata": {},
   "outputs": [],
   "source": [
    "criterion = nn.CrossEntropyLoss() # Loss Function\n",
    "optimizer = Adam(model.parameters(),lr=0.001) # Optimizer"
   ]
  },
  {
   "cell_type": "code",
   "execution_count": 15,
   "id": "57db006e",
   "metadata": {},
   "outputs": [
    {
     "data": {
      "text/plain": [
       "torch.Size([100, 784])"
      ]
     },
     "execution_count": 15,
     "metadata": {},
     "output_type": "execute_result"
    }
   ],
   "source": [
    "images.view(-1,784).shape"
   ]
  },
  {
   "cell_type": "code",
   "execution_count": 16,
   "id": "af145c5b",
   "metadata": {},
   "outputs": [
    {
     "name": "stdout",
     "output_type": "stream",
     "text": [
      "[Epoch 9] Batch 600 | loss: 0.01973872445523739 | accuracy: 99.26%\n",
      "Duration: 0.8301749110221863 mins\n"
     ]
    }
   ],
   "source": [
    "import time\n",
    "\n",
    "start_time = time.time()\n",
    "\n",
    "epochs = 10\n",
    "train_losses = []\n",
    "test_losses = []\n",
    "train_correct = []\n",
    "test_correct = []\n",
    "\n",
    "for i in range(epochs):\n",
    "    trn_corr = 0\n",
    "    test_corr = 0\n",
    "    \n",
    "    for b, (X_train, y_train) in enumerate(train_loader):\n",
    "        b+=1\n",
    "        \n",
    "        # Forward pass\n",
    "        y_pred = model(X_train.view(-1,784))\n",
    "        loss = criterion(y_pred,y_train)\n",
    "        \n",
    "        predicted = torch.max(y_pred.data,1)[1] # This essentially fetches the max value across columns (axis=1) of each row in a batch and return index, hence the [1]\n",
    "        batch_corr = (predicted == y_train).sum() # This returns a scalar tensor\n",
    "        trn_corr += batch_corr\n",
    "        \n",
    "        # Backward pass\n",
    "        optimizer.zero_grad() # Resets gradients to 0 as it is accumulated from previous batch\n",
    "        loss.backward() # Perform backpropogation\n",
    "        optimizer.step() # Adjust the parameters of the model\n",
    "        \n",
    "        if b%200 == 0:\n",
    "            accuracy = trn_corr.item()*100/(100*b)\n",
    "            clear_output(wait=True)\n",
    "            print(f'[Epoch {i}] Batch {b} | loss: {loss.item()} | accuracy: {round(accuracy,2)}%')\n",
    "    \n",
    "    train_losses.append(loss.item())\n",
    "    train_correct.append(trn_corr.item())\n",
    "\n",
    "    # Disable gradient computation during inference\n",
    "    # With clause helps to disable it and renable it once done executing the block\n",
    "    with torch.no_grad():\n",
    "        for b,(X_test,y_test) in enumerate(test_loader):\n",
    "            \n",
    "            y_val = model(X_test.view(-1,784))\n",
    "            predicted = torch.max(y_val.data,1)[1]\n",
    "            test_corr += (predicted == y_test).sum()\n",
    "    \n",
    "    loss = criterion(y_val, y_test)\n",
    "    test_losses.append(loss.item())\n",
    "    test_correct.append(test_corr.item())\n",
    "\n",
    "total_time = time.time() - start_time\n",
    "print(f\"Duration: {total_time/60} mins\")"
   ]
  },
  {
   "cell_type": "code",
   "execution_count": 18,
   "id": "ad0b7e85",
   "metadata": {},
   "outputs": [
    {
     "data": {
      "text/plain": [
       "<matplotlib.legend.Legend at 0x2a4fffb0f70>"
      ]
     },
     "execution_count": 18,
     "metadata": {},
     "output_type": "execute_result"
    },
    {
     "data": {
      "image/png": "[encoded data removed]",
      "text/plain": [
       "<Figure size 432x288 with 1 Axes>"
      ]
     },
     "metadata": {
      "needs_background": "light"
     },
     "output_type": "display_data"
    }
   ],
   "source": [
    "plt.plot(train_losses, label = 'Training Loss')\n",
    "plt.plot(test_losses, label = 'Test Loss')\n",
    "plt.legend()"
   ]
  },
  {
   "cell_type": "code",
   "execution_count": 34,
   "id": "ad826507",
   "metadata": {},
   "outputs": [
    {
     "data": {
      "text/plain": [
       "<matplotlib.legend.Legend at 0x2a487ad8eb0>"
      ]
     },
     "execution_count": 34,
     "metadata": {},
     "output_type": "execute_result"
    },
    {
     "data": {
      "image/png": "[encoded data removed]",
      "text/plain": [
       "<Figure size 432x288 with 1 Axes>"
      ]
     },
     "metadata": {
      "needs_background": "light"
     },
     "output_type": "display_data"
    }
   ],
   "source": [
    "train_acc = [(t/60000)*100 for t in train_correct]\n",
    "test_acc = [(t/10000)*100 for t in test_correct]\n",
    "\n",
    "plt.plot(train_acc, label='train acc')\n",
    "plt.plot(test_acc, label = 'test acc')\n",
    "plt.legend()"
   ]
  },
  {
   "cell_type": "code",
   "execution_count": 39,
   "id": "0a234b9d",
   "metadata": {},
   "outputs": [
    {
     "name": "stdout",
     "output_type": "stream",
     "text": [
      "Batch Size: 1\n",
      "Size of each batch: 10000\n"
     ]
    }
   ],
   "source": [
    "# Load Unseen data\n",
    "\n",
    "test_load_all = DataLoader(test_data, batch_size = 10000, shuffle = False)\n",
    "print(f\"Batch Size: {len(test_load_all)}\")\n",
    "print(f\"Size of each batch: {test_load_all.batch_size}\")"
   ]
  },
  {
   "cell_type": "code",
   "execution_count": 54,
   "id": "7eee1021",
   "metadata": {},
   "outputs": [
    {
     "name": "stdout",
     "output_type": "stream",
     "text": [
      "Accuracy on Unseen Data: 97.66%\n",
      "confusion matrix:\n",
      " [[  970     0     5     0     1     2     5     2     3     3]\n",
      " [    0  1124     4     0     0     0     3     7     0     2]\n",
      " [    1     3   999     2     1     0     2     9     3     0]\n",
      " [    2     2     8   985     0    11     1     2     4     3]\n",
      " [    1     0     3     0   959     3     3     2     2     6]\n",
      " [    0     0     0     8     0   866     5     1     3     2]\n",
      " [    1     1     1     0     6     2   938     0     1     0]\n",
      " [    0     0     4     5     1     0     0   984     3     0]\n",
      " [    3     5     8     3     2     7     1     3   951     3]\n",
      " [    2     0     0     7    12     1     0    18     4   990]]\n"
     ]
    }
   ],
   "source": [
    "with torch.no_grad():\n",
    "    correct = 0\n",
    "    for X_test, y_test in test_load_all:\n",
    "        y_val = model(X_test.view(-1,784))\n",
    "        predicted = torch.max(y_val,1)[1]\n",
    "        correct+=(predicted == y_test).sum()\n",
    "print(f'Accuracy on Unseen Data: {correct.item()/10000*100}%')\n",
    "print(f\"confusion matrix:\\n {confusion_matrix(predicted.view(-1),y_test.view(-1))}\")"
   ]
  },
  {
   "cell_type": "code",
   "execution_count": 44,
   "id": "6638f2cd",
   "metadata": {},
   "outputs": [
    {
     "data": {
      "text/plain": [
       "97.66"
      ]
     },
     "execution_count": 44,
     "metadata": {},
     "output_type": "execute_result"
    }
   ],
   "source": []
  },
  {
   "cell_type": "code",
   "execution_count": null,
   "id": "f4338df3",
   "metadata": {},
   "outputs": [],
   "source": []
  }
 ],
 "metadata": {
  "kernelspec": {
   "display_name": "Python 3 (ipykernel)",
   "language": "python",
   "name": "python3"
  },
  "language_info": {
   "codemirror_mode": {
    "name": "ipython",
    "version": 3
   },
   "file_extension": ".py",
   "mimetype": "text/x-python",
   "name": "python",
   "nbconvert_exporter": "python",
   "pygments_lexer": "ipython3",
   "version": "3.8.0"
  }
 },
 "nbformat": 4,
 "nbformat_minor": 5
}
